{
 "cells": [
  {
   "cell_type": "code",
   "execution_count": 1,
   "id": "de0beb94",
   "metadata": {},
   "outputs": [],
   "source": [
    "import numpy as np\n",
    "import pandas as pd\n",
    "import statsmodels.api as sm\n",
    "import matplotlib.pyplot as plt\n",
    "import seaborn as sns\n",
    "from imblearn.over_sampling import SMOTE \n",
    "from sklearn.metrics import confusion_matrix, accuracy_score, classification_report, plot_confusion_matrix, ConfusionMatrixDisplay\n",
    "\n"
   ]
  },
  {
   "cell_type": "code",
   "execution_count": 2,
   "id": "cd880307",
   "metadata": {},
   "outputs": [],
   "source": [
    "df = pd.read_csv('shared/complaints_25Nov21.csv')"
   ]
  },
  {
   "cell_type": "code",
   "execution_count": 3,
   "id": "acb2bf2b",
   "metadata": {},
   "outputs": [
    {
     "data": {
      "text/html": [
       "<div>\n",
       "<style scoped>\n",
       "    .dataframe tbody tr th:only-of-type {\n",
       "        vertical-align: middle;\n",
       "    }\n",
       "\n",
       "    .dataframe tbody tr th {\n",
       "        vertical-align: top;\n",
       "    }\n",
       "\n",
       "    .dataframe thead th {\n",
       "        text-align: right;\n",
       "    }\n",
       "</style>\n",
       "<table border=\"1\" class=\"dataframe\">\n",
       "  <thead>\n",
       "    <tr style=\"text-align: right;\">\n",
       "      <th></th>\n",
       "      <th>Date received</th>\n",
       "      <th>Product</th>\n",
       "      <th>Sub-product</th>\n",
       "      <th>Issue</th>\n",
       "      <th>Sub-issue</th>\n",
       "      <th>Consumer complaint narrative</th>\n",
       "      <th>Company public response</th>\n",
       "      <th>Company</th>\n",
       "      <th>State</th>\n",
       "      <th>ZIP code</th>\n",
       "      <th>Tags</th>\n",
       "      <th>Consumer consent provided?</th>\n",
       "      <th>Submitted via</th>\n",
       "      <th>Date sent to company</th>\n",
       "      <th>Company response to consumer</th>\n",
       "      <th>Timely response?</th>\n",
       "      <th>Consumer disputed?</th>\n",
       "      <th>Complaint ID</th>\n",
       "    </tr>\n",
       "  </thead>\n",
       "  <tbody>\n",
       "    <tr>\n",
       "      <th>0</th>\n",
       "      <td>2016-10-26</td>\n",
       "      <td>Money transfers</td>\n",
       "      <td>International money transfer</td>\n",
       "      <td>Other transaction issues</td>\n",
       "      <td>NaN</td>\n",
       "      <td>To whom it concerns, I would like to file a fo...</td>\n",
       "      <td>Company has responded to the consumer and the ...</td>\n",
       "      <td>CITIBANK, N.A.</td>\n",
       "      <td>NaN</td>\n",
       "      <td>NaN</td>\n",
       "      <td>NaN</td>\n",
       "      <td>Consent provided</td>\n",
       "      <td>Web</td>\n",
       "      <td>2016-10-29</td>\n",
       "      <td>Closed with explanation</td>\n",
       "      <td>Yes</td>\n",
       "      <td>No</td>\n",
       "      <td>2180490</td>\n",
       "    </tr>\n",
       "    <tr>\n",
       "      <th>1</th>\n",
       "      <td>2015-03-27</td>\n",
       "      <td>Bank account or service</td>\n",
       "      <td>Other bank product/service</td>\n",
       "      <td>Account opening, closing, or management</td>\n",
       "      <td>NaN</td>\n",
       "      <td>My name is XXXX XXXX XXXX and huband name is X...</td>\n",
       "      <td>Company chooses not to provide a public response</td>\n",
       "      <td>CITIBANK, N.A.</td>\n",
       "      <td>PA</td>\n",
       "      <td>151XX</td>\n",
       "      <td>Older American</td>\n",
       "      <td>Consent provided</td>\n",
       "      <td>Web</td>\n",
       "      <td>2015-03-27</td>\n",
       "      <td>Closed with explanation</td>\n",
       "      <td>Yes</td>\n",
       "      <td>No</td>\n",
       "      <td>1305453</td>\n",
       "    </tr>\n",
       "    <tr>\n",
       "      <th>2</th>\n",
       "      <td>2015-04-20</td>\n",
       "      <td>Bank account or service</td>\n",
       "      <td>Other bank product/service</td>\n",
       "      <td>Making/receiving payments, sending money</td>\n",
       "      <td>NaN</td>\n",
       "      <td>XXXX 2015 : I called to make a payment on XXXX...</td>\n",
       "      <td>Company chooses not to provide a public response</td>\n",
       "      <td>U.S. BANCORP</td>\n",
       "      <td>PA</td>\n",
       "      <td>152XX</td>\n",
       "      <td>NaN</td>\n",
       "      <td>Consent provided</td>\n",
       "      <td>Web</td>\n",
       "      <td>2015-04-22</td>\n",
       "      <td>Closed with monetary relief</td>\n",
       "      <td>Yes</td>\n",
       "      <td>No</td>\n",
       "      <td>1337613</td>\n",
       "    </tr>\n",
       "    <tr>\n",
       "      <th>3</th>\n",
       "      <td>2013-04-29</td>\n",
       "      <td>Mortgage</td>\n",
       "      <td>Conventional fixed mortgage</td>\n",
       "      <td>Application, originator, mortgage broker</td>\n",
       "      <td>NaN</td>\n",
       "      <td>NaN</td>\n",
       "      <td>NaN</td>\n",
       "      <td>JPMORGAN CHASE &amp; CO.</td>\n",
       "      <td>VA</td>\n",
       "      <td>22406</td>\n",
       "      <td>Servicemember</td>\n",
       "      <td>NaN</td>\n",
       "      <td>Phone</td>\n",
       "      <td>2013-04-30</td>\n",
       "      <td>Closed with explanation</td>\n",
       "      <td>Yes</td>\n",
       "      <td>Yes</td>\n",
       "      <td>393900</td>\n",
       "    </tr>\n",
       "    <tr>\n",
       "      <th>4</th>\n",
       "      <td>2013-05-29</td>\n",
       "      <td>Mortgage</td>\n",
       "      <td>Other mortgage</td>\n",
       "      <td>Loan modification,collection,foreclosure</td>\n",
       "      <td>NaN</td>\n",
       "      <td>NaN</td>\n",
       "      <td>NaN</td>\n",
       "      <td>BANK OF AMERICA, NATIONAL ASSOCIATION</td>\n",
       "      <td>GA</td>\n",
       "      <td>30044</td>\n",
       "      <td>NaN</td>\n",
       "      <td>NaN</td>\n",
       "      <td>Referral</td>\n",
       "      <td>2013-05-31</td>\n",
       "      <td>Closed with explanation</td>\n",
       "      <td>Yes</td>\n",
       "      <td>No</td>\n",
       "      <td>418647</td>\n",
       "    </tr>\n",
       "    <tr>\n",
       "      <th>...</th>\n",
       "      <td>...</td>\n",
       "      <td>...</td>\n",
       "      <td>...</td>\n",
       "      <td>...</td>\n",
       "      <td>...</td>\n",
       "      <td>...</td>\n",
       "      <td>...</td>\n",
       "      <td>...</td>\n",
       "      <td>...</td>\n",
       "      <td>...</td>\n",
       "      <td>...</td>\n",
       "      <td>...</td>\n",
       "      <td>...</td>\n",
       "      <td>...</td>\n",
       "      <td>...</td>\n",
       "      <td>...</td>\n",
       "      <td>...</td>\n",
       "      <td>...</td>\n",
       "    </tr>\n",
       "    <tr>\n",
       "      <th>207255</th>\n",
       "      <td>2015-05-24</td>\n",
       "      <td>Debt collection</td>\n",
       "      <td>Credit card</td>\n",
       "      <td>Taking/threatening an illegal action</td>\n",
       "      <td>Sued w/o proper notification of suit</td>\n",
       "      <td>NaN</td>\n",
       "      <td>NaN</td>\n",
       "      <td>JPMORGAN CHASE &amp; CO.</td>\n",
       "      <td>FL</td>\n",
       "      <td>33133</td>\n",
       "      <td>NaN</td>\n",
       "      <td>Consent not provided</td>\n",
       "      <td>Web</td>\n",
       "      <td>2015-05-24</td>\n",
       "      <td>Closed with explanation</td>\n",
       "      <td>Yes</td>\n",
       "      <td>No</td>\n",
       "      <td>1390395</td>\n",
       "    </tr>\n",
       "    <tr>\n",
       "      <th>207256</th>\n",
       "      <td>2012-01-10</td>\n",
       "      <td>Mortgage</td>\n",
       "      <td>Conventional fixed mortgage</td>\n",
       "      <td>Loan modification,collection,foreclosure</td>\n",
       "      <td>NaN</td>\n",
       "      <td>NaN</td>\n",
       "      <td>NaN</td>\n",
       "      <td>JPMORGAN CHASE &amp; CO.</td>\n",
       "      <td>NY</td>\n",
       "      <td>10312</td>\n",
       "      <td>NaN</td>\n",
       "      <td>NaN</td>\n",
       "      <td>Referral</td>\n",
       "      <td>2012-01-11</td>\n",
       "      <td>Closed without relief</td>\n",
       "      <td>Yes</td>\n",
       "      <td>Yes</td>\n",
       "      <td>12192</td>\n",
       "    </tr>\n",
       "    <tr>\n",
       "      <th>207257</th>\n",
       "      <td>2012-07-17</td>\n",
       "      <td>Student loan</td>\n",
       "      <td>Non-federal student loan</td>\n",
       "      <td>Repaying your loan</td>\n",
       "      <td>NaN</td>\n",
       "      <td>NaN</td>\n",
       "      <td>NaN</td>\n",
       "      <td>BANK OF AMERICA, NATIONAL ASSOCIATION</td>\n",
       "      <td>NH</td>\n",
       "      <td>032XX</td>\n",
       "      <td>NaN</td>\n",
       "      <td>NaN</td>\n",
       "      <td>Web</td>\n",
       "      <td>2012-07-18</td>\n",
       "      <td>Closed with explanation</td>\n",
       "      <td>Yes</td>\n",
       "      <td>No</td>\n",
       "      <td>118351</td>\n",
       "    </tr>\n",
       "    <tr>\n",
       "      <th>207258</th>\n",
       "      <td>2016-09-29</td>\n",
       "      <td>Bank account or service</td>\n",
       "      <td>Checking account</td>\n",
       "      <td>Account opening, closing, or management</td>\n",
       "      <td>NaN</td>\n",
       "      <td>Near the end of XXXX 2016 I opened a Citigold ...</td>\n",
       "      <td>Company has responded to the consumer and the ...</td>\n",
       "      <td>CITIBANK, N.A.</td>\n",
       "      <td>CA</td>\n",
       "      <td>900XX</td>\n",
       "      <td>NaN</td>\n",
       "      <td>Consent provided</td>\n",
       "      <td>Web</td>\n",
       "      <td>2016-09-29</td>\n",
       "      <td>Closed with non-monetary relief</td>\n",
       "      <td>Yes</td>\n",
       "      <td>No</td>\n",
       "      <td>2138969</td>\n",
       "    </tr>\n",
       "    <tr>\n",
       "      <th>207259</th>\n",
       "      <td>2015-04-29</td>\n",
       "      <td>Mortgage</td>\n",
       "      <td>Conventional fixed mortgage</td>\n",
       "      <td>Loan modification,collection,foreclosure</td>\n",
       "      <td>NaN</td>\n",
       "      <td>My father died in XX/XX/XXXX. Left me his only...</td>\n",
       "      <td>NaN</td>\n",
       "      <td>CITIBANK, N.A.</td>\n",
       "      <td>OK</td>\n",
       "      <td>740XX</td>\n",
       "      <td>NaN</td>\n",
       "      <td>Consent provided</td>\n",
       "      <td>Web</td>\n",
       "      <td>2015-04-29</td>\n",
       "      <td>Closed with explanation</td>\n",
       "      <td>Yes</td>\n",
       "      <td>No</td>\n",
       "      <td>1352738</td>\n",
       "    </tr>\n",
       "  </tbody>\n",
       "</table>\n",
       "<p>207260 rows × 18 columns</p>\n",
       "</div>"
      ],
      "text/plain": [
       "       Date received                  Product                   Sub-product  \\\n",
       "0         2016-10-26          Money transfers  International money transfer   \n",
       "1         2015-03-27  Bank account or service    Other bank product/service   \n",
       "2         2015-04-20  Bank account or service    Other bank product/service   \n",
       "3         2013-04-29                 Mortgage   Conventional fixed mortgage   \n",
       "4         2013-05-29                 Mortgage                Other mortgage   \n",
       "...              ...                      ...                           ...   \n",
       "207255    2015-05-24          Debt collection                   Credit card   \n",
       "207256    2012-01-10                 Mortgage   Conventional fixed mortgage   \n",
       "207257    2012-07-17             Student loan      Non-federal student loan   \n",
       "207258    2016-09-29  Bank account or service              Checking account   \n",
       "207259    2015-04-29                 Mortgage   Conventional fixed mortgage   \n",
       "\n",
       "                                           Issue  \\\n",
       "0                       Other transaction issues   \n",
       "1        Account opening, closing, or management   \n",
       "2       Making/receiving payments, sending money   \n",
       "3       Application, originator, mortgage broker   \n",
       "4       Loan modification,collection,foreclosure   \n",
       "...                                          ...   \n",
       "207255      Taking/threatening an illegal action   \n",
       "207256  Loan modification,collection,foreclosure   \n",
       "207257                        Repaying your loan   \n",
       "207258   Account opening, closing, or management   \n",
       "207259  Loan modification,collection,foreclosure   \n",
       "\n",
       "                                   Sub-issue  \\\n",
       "0                                        NaN   \n",
       "1                                        NaN   \n",
       "2                                        NaN   \n",
       "3                                        NaN   \n",
       "4                                        NaN   \n",
       "...                                      ...   \n",
       "207255  Sued w/o proper notification of suit   \n",
       "207256                                   NaN   \n",
       "207257                                   NaN   \n",
       "207258                                   NaN   \n",
       "207259                                   NaN   \n",
       "\n",
       "                             Consumer complaint narrative  \\\n",
       "0       To whom it concerns, I would like to file a fo...   \n",
       "1       My name is XXXX XXXX XXXX and huband name is X...   \n",
       "2       XXXX 2015 : I called to make a payment on XXXX...   \n",
       "3                                                     NaN   \n",
       "4                                                     NaN   \n",
       "...                                                   ...   \n",
       "207255                                                NaN   \n",
       "207256                                                NaN   \n",
       "207257                                                NaN   \n",
       "207258  Near the end of XXXX 2016 I opened a Citigold ...   \n",
       "207259  My father died in XX/XX/XXXX. Left me his only...   \n",
       "\n",
       "                                  Company public response  \\\n",
       "0       Company has responded to the consumer and the ...   \n",
       "1        Company chooses not to provide a public response   \n",
       "2        Company chooses not to provide a public response   \n",
       "3                                                     NaN   \n",
       "4                                                     NaN   \n",
       "...                                                   ...   \n",
       "207255                                                NaN   \n",
       "207256                                                NaN   \n",
       "207257                                                NaN   \n",
       "207258  Company has responded to the consumer and the ...   \n",
       "207259                                                NaN   \n",
       "\n",
       "                                      Company State ZIP code            Tags  \\\n",
       "0                              CITIBANK, N.A.   NaN      NaN             NaN   \n",
       "1                              CITIBANK, N.A.    PA    151XX  Older American   \n",
       "2                                U.S. BANCORP    PA    152XX             NaN   \n",
       "3                        JPMORGAN CHASE & CO.    VA    22406   Servicemember   \n",
       "4       BANK OF AMERICA, NATIONAL ASSOCIATION    GA    30044             NaN   \n",
       "...                                       ...   ...      ...             ...   \n",
       "207255                   JPMORGAN CHASE & CO.    FL    33133             NaN   \n",
       "207256                   JPMORGAN CHASE & CO.    NY    10312             NaN   \n",
       "207257  BANK OF AMERICA, NATIONAL ASSOCIATION    NH    032XX             NaN   \n",
       "207258                         CITIBANK, N.A.    CA    900XX             NaN   \n",
       "207259                         CITIBANK, N.A.    OK    740XX             NaN   \n",
       "\n",
       "       Consumer consent provided? Submitted via Date sent to company  \\\n",
       "0                Consent provided           Web           2016-10-29   \n",
       "1                Consent provided           Web           2015-03-27   \n",
       "2                Consent provided           Web           2015-04-22   \n",
       "3                             NaN         Phone           2013-04-30   \n",
       "4                             NaN      Referral           2013-05-31   \n",
       "...                           ...           ...                  ...   \n",
       "207255       Consent not provided           Web           2015-05-24   \n",
       "207256                        NaN      Referral           2012-01-11   \n",
       "207257                        NaN           Web           2012-07-18   \n",
       "207258           Consent provided           Web           2016-09-29   \n",
       "207259           Consent provided           Web           2015-04-29   \n",
       "\n",
       "           Company response to consumer Timely response? Consumer disputed?  \\\n",
       "0               Closed with explanation              Yes                 No   \n",
       "1               Closed with explanation              Yes                 No   \n",
       "2           Closed with monetary relief              Yes                 No   \n",
       "3               Closed with explanation              Yes                Yes   \n",
       "4               Closed with explanation              Yes                 No   \n",
       "...                                 ...              ...                ...   \n",
       "207255          Closed with explanation              Yes                 No   \n",
       "207256            Closed without relief              Yes                Yes   \n",
       "207257          Closed with explanation              Yes                 No   \n",
       "207258  Closed with non-monetary relief              Yes                 No   \n",
       "207259          Closed with explanation              Yes                 No   \n",
       "\n",
       "        Complaint ID  \n",
       "0            2180490  \n",
       "1            1305453  \n",
       "2            1337613  \n",
       "3             393900  \n",
       "4             418647  \n",
       "...              ...  \n",
       "207255       1390395  \n",
       "207256         12192  \n",
       "207257        118351  \n",
       "207258       2138969  \n",
       "207259       1352738  \n",
       "\n",
       "[207260 rows x 18 columns]"
      ]
     },
     "execution_count": 3,
     "metadata": {},
     "output_type": "execute_result"
    }
   ],
   "source": [
    "df"
   ]
  },
  {
   "cell_type": "code",
   "execution_count": 4,
   "id": "c94a3e3b",
   "metadata": {},
   "outputs": [
    {
     "name": "stdout",
     "output_type": "stream",
     "text": [
      "<class 'pandas.core.frame.DataFrame'>\n",
      "RangeIndex: 207260 entries, 0 to 207259\n",
      "Data columns (total 18 columns):\n",
      " #   Column                        Non-Null Count   Dtype \n",
      "---  ------                        --------------   ----- \n",
      " 0   Date received                 207260 non-null  object\n",
      " 1   Product                       207260 non-null  object\n",
      " 2   Sub-product                   164245 non-null  object\n",
      " 3   Issue                         207260 non-null  object\n",
      " 4   Sub-issue                     10347 non-null   object\n",
      " 5   Consumer complaint narrative  29391 non-null   object\n",
      " 6   Company public response       58458 non-null   object\n",
      " 7   Company                       207260 non-null  object\n",
      " 8   State                         205066 non-null  object\n",
      " 9   ZIP code                      197974 non-null  object\n",
      " 10  Tags                          28265 non-null   object\n",
      " 11  Consumer consent provided?    51313 non-null   object\n",
      " 12  Submitted via                 207260 non-null  object\n",
      " 13  Date sent to company          207260 non-null  object\n",
      " 14  Company response to consumer  207260 non-null  object\n",
      " 15  Timely response?              207260 non-null  object\n",
      " 16  Consumer disputed?            207260 non-null  object\n",
      " 17  Complaint ID                  207260 non-null  int64 \n",
      "dtypes: int64(1), object(17)\n",
      "memory usage: 28.5+ MB\n"
     ]
    }
   ],
   "source": [
    "df.info()"
   ]
  },
  {
   "cell_type": "code",
   "execution_count": 5,
   "id": "8e604503",
   "metadata": {},
   "outputs": [],
   "source": [
    "#pd.set_option(\"display.max_rows\", None, \"display.max_columns\", None)"
   ]
  },
  {
   "cell_type": "code",
   "execution_count": 6,
   "id": "628c0f47",
   "metadata": {},
   "outputs": [
    {
     "data": {
      "text/plain": [
       "<AxesSubplot:>"
      ]
     },
     "execution_count": 6,
     "metadata": {},
     "output_type": "execute_result"
    },
    {
     "data": {
      "image/png": "[encoded data removed]",
      "text/plain": [
       "<Figure size 432x288 with 1 Axes>"
      ]
     },
     "metadata": {
      "needs_background": "light"
     },
     "output_type": "display_data"
    }
   ],
   "source": [
    "df['Product'].value_counts().plot(kind='barh')"
   ]
  },
  {
   "cell_type": "code",
   "execution_count": 7,
   "id": "3375580f",
   "metadata": {},
   "outputs": [
    {
     "data": {
      "text/plain": [
       "Mortgage                   0.490592\n",
       "Bank account or service    0.215160\n",
       "Credit card                0.203566\n",
       "Debt collection            0.037928\n",
       "Consumer Loan              0.026575\n",
       "Student loan               0.013828\n",
       "Money transfers            0.004193\n",
       "Credit reporting           0.003575\n",
       "Prepaid card               0.003064\n",
       "Other financial service    0.001119\n",
       "Payday loan                0.000400\n",
       "Name: Product, dtype: float64"
      ]
     },
     "execution_count": 7,
     "metadata": {},
     "output_type": "execute_result"
    }
   ],
   "source": [
    "df['Product'].value_counts(normalize=True)"
   ]
  },
  {
   "cell_type": "code",
   "execution_count": 8,
   "id": "0ae49f19",
   "metadata": {},
   "outputs": [
    {
     "data": {
      "text/plain": [
       "<AxesSubplot:>"
      ]
     },
     "execution_count": 8,
     "metadata": {},
     "output_type": "execute_result"
    },
    {
     "data": {
      "image/png": "[encoded data removed]",
      "text/plain": [
       "<Figure size 432x288 with 1 Axes>"
      ]
     },
     "metadata": {
      "needs_background": "light"
     },
     "output_type": "display_data"
    }
   ],
   "source": [
    "df['Sub-product'].value_counts()[:20].plot(kind='barh')"
   ]
  },
  {
   "cell_type": "code",
   "execution_count": 9,
   "id": "2e068c44",
   "metadata": {},
   "outputs": [
    {
     "data": {
      "text/plain": [
       "Other mortgage                            0.270437\n",
       "Checking account                          0.194100\n",
       "Conventional fixed mortgage               0.165028\n",
       "FHA mortgage                              0.070480\n",
       "Conventional adjustable mortgage (ARM)    0.060641\n",
       "Other bank product/service                0.051904\n",
       "Home equity loan or line of credit        0.035630\n",
       "Credit card                               0.024713\n",
       "Vehicle loan                              0.018746\n",
       "Non-federal student loan                  0.017821\n",
       "Savings account                           0.015392\n",
       "VA mortgage                               0.011641\n",
       "Installment loan                          0.008299\n",
       "Other (i.e. phone, health club, etc.)     0.008000\n",
       "(CD) Certificate of deposit               0.007933\n",
       "Mortgage                                  0.007282\n",
       "I do not know                             0.004919\n",
       "Personal line of credit                   0.004323\n",
       "Reverse mortgage                          0.003105\n",
       "International money transfer              0.002764\n",
       "Domestic (US) money transfer              0.002527\n",
       "Cashing a check without an account        0.002180\n",
       "Second mortgage                           0.002113\n",
       "General purpose card                      0.001851\n",
       "Vehicle lease                             0.001760\n",
       "Auto                                      0.001559\n",
       "Gift or merchant card                     0.001065\n",
       "Check cashing                             0.000578\n",
       "Federal student loan servicing            0.000438\n",
       "Other special purpose card                0.000347\n",
       "Government benefit payment card           0.000244\n",
       "Title loan                                0.000244\n",
       "Traveler’s/Cashier’s checks               0.000237\n",
       "Payday loan                               0.000231\n",
       "Federal student loan                      0.000225\n",
       "Foreign currency exchange                 0.000195\n",
       "Refund anticipation check                 0.000164\n",
       "Pawn loan                                 0.000164\n",
       "Payroll card                              0.000158\n",
       "ID prepaid card                           0.000146\n",
       "Medical                                   0.000122\n",
       "Debt settlement                           0.000116\n",
       "Money order                               0.000079\n",
       "Credit repair                             0.000043\n",
       "Mobile wallet                             0.000037\n",
       "Transit card                              0.000012\n",
       "Electronic Benefit Transfer / EBT card    0.000006\n",
       "Name: Sub-product, dtype: float64"
      ]
     },
     "execution_count": 9,
     "metadata": {},
     "output_type": "execute_result"
    }
   ],
   "source": [
    "df['Sub-product'].value_counts(normalize=True)"
   ]
  },
  {
   "cell_type": "code",
   "execution_count": 10,
   "id": "87003d5b",
   "metadata": {},
   "outputs": [
    {
     "data": {
      "text/plain": [
       "<AxesSubplot:>"
      ]
     },
     "execution_count": 10,
     "metadata": {},
     "output_type": "execute_result"
    },
    {
     "data": {
      "image/png": "[encoded data removed]",
      "text/plain": [
       "<Figure size 432x288 with 1 Axes>"
      ]
     },
     "metadata": {
      "needs_background": "light"
     },
     "output_type": "display_data"
    }
   ],
   "source": [
    "df['Issue'].value_counts()[:20].plot(kind='barh')"
   ]
  },
  {
   "cell_type": "code",
   "execution_count": 11,
   "id": "fa4862a6",
   "metadata": {},
   "outputs": [
    {
     "data": {
      "text/plain": [
       "<AxesSubplot:>"
      ]
     },
     "execution_count": 11,
     "metadata": {},
     "output_type": "execute_result"
    },
    {
     "data": {
      "image/png": "[encoded data removed]",
      "text/plain": [
       "<Figure size 432x288 with 1 Axes>"
      ]
     },
     "metadata": {
      "needs_background": "light"
     },
     "output_type": "display_data"
    }
   ],
   "source": [
    "df['Sub-issue'].value_counts()[:20].plot(kind='barh')"
   ]
  },
  {
   "cell_type": "code",
   "execution_count": 12,
   "id": "c9d5f1ea",
   "metadata": {},
   "outputs": [
    {
     "data": {
      "text/plain": [
       "I have had my bank of america credit card ending in XXXX for year and have never been late. Bank of america sent me a letter on XXXX/XXXX/2015 that they are closing my personal account due to an issue with my business account. This has hurt me tremendously as my credit score has suffered due to this matter.                                                                                                                                                                                                                                                   3\n",
       "Unauthorized inquiry and/or unknown company                                                                                                                                                                                                                                                                                                                                                                                                                                                                                                                            3\n",
       "this acct is fraudulent and when initially submitting information was not totally complete this was a case of identity theft and needs to be removed from your records and my file asap                                                                                                                                                                                                                                                                                                                                                                                3\n",
       "This account was closed on XXXX/XXXX/13 want to be removed from my credit.                                                                                                                                                                                                                                                                                                                                                                                                                                                                                             3\n",
       "Us Bank closed my credit card in retaliaition for reporting them to your agency. They have also denied my request for past statements, lied about the true balanced owed, lied about payments received, and lied about not receiiving documentation related to several disputes. \\nI want the following charges outlined in the attachment removed from my account. I am also notifying experian of the retaliatory actions taken against me and a long trail of false statements provided to me by us bank as related to payments received, documents, and emails.    2\n",
       "Name: Consumer complaint narrative, dtype: int64"
      ]
     },
     "execution_count": 12,
     "metadata": {},
     "output_type": "execute_result"
    }
   ],
   "source": [
    "df['Consumer complaint narrative'].value_counts().head()"
   ]
  },
  {
   "cell_type": "code",
   "execution_count": 13,
   "id": "d2cc708e",
   "metadata": {},
   "outputs": [
    {
     "data": {
      "text/plain": [
       "Company has responded to the consumer and the CFPB and chooses not to provide a public response                            35858\n",
       "Company chooses not to provide a public response                                                                           22535\n",
       "Company believes it acted appropriately as authorized by contract or law                                                      58\n",
       "Company believes complaint caused principally by actions of third party outside the control or direction of the company        3\n",
       "Company believes complaint represents an opportunity for improvement to better serve consumers                                 1\n",
       "Company believes complaint is the result of an isolated error                                                                  1\n",
       "Company believes complaint relates to a discontinued policy or procedure                                                       1\n",
       "Company believes the complaint is the result of a misunderstanding                                                             1\n",
       "Name: Company public response, dtype: int64"
      ]
     },
     "execution_count": 13,
     "metadata": {},
     "output_type": "execute_result"
    }
   ],
   "source": [
    "df['Company public response'].value_counts()"
   ]
  },
  {
   "cell_type": "code",
   "execution_count": 14,
   "id": "10be6c1b",
   "metadata": {},
   "outputs": [
    {
     "data": {
      "text/plain": [
       "Company has responded to the consumer and the CFPB and chooses not to provide a public response                            0.613398\n",
       "Company chooses not to provide a public response                                                                           0.385490\n",
       "Company believes it acted appropriately as authorized by contract or law                                                   0.000992\n",
       "Company believes complaint caused principally by actions of third party outside the control or direction of the company    0.000051\n",
       "Company believes complaint represents an opportunity for improvement to better serve consumers                             0.000017\n",
       "Company believes complaint is the result of an isolated error                                                              0.000017\n",
       "Company believes complaint relates to a discontinued policy or procedure                                                   0.000017\n",
       "Company believes the complaint is the result of a misunderstanding                                                         0.000017\n",
       "Name: Company public response, dtype: float64"
      ]
     },
     "execution_count": 14,
     "metadata": {},
     "output_type": "execute_result"
    }
   ],
   "source": [
    "df['Company public response'].value_counts(normalize=True)"
   ]
  },
  {
   "cell_type": "code",
   "execution_count": 15,
   "id": "5a645e26",
   "metadata": {},
   "outputs": [
    {
     "data": {
      "text/plain": [
       "<AxesSubplot:ylabel='Company public response'>"
      ]
     },
     "execution_count": 15,
     "metadata": {},
     "output_type": "execute_result"
    },
    {
     "data": {
      "image/png": "[encoded data removed]",
      "text/plain": [
       "<Figure size 432x288 with 1 Axes>"
      ]
     },
     "metadata": {},
     "output_type": "display_data"
    }
   ],
   "source": [
    "df['Company public response'].value_counts().plot(kind = 'pie')"
   ]
  },
  {
   "cell_type": "code",
   "execution_count": 16,
   "id": "bebe5887",
   "metadata": {},
   "outputs": [
    {
     "data": {
      "text/plain": [
       "Consent provided        29393\n",
       "Consent not provided    19727\n",
       "Other                    2192\n",
       "Consent withdrawn           1\n",
       "Name: Consumer consent provided?, dtype: int64"
      ]
     },
     "execution_count": 16,
     "metadata": {},
     "output_type": "execute_result"
    }
   ],
   "source": [
    "df['Consumer consent provided?'].value_counts()"
   ]
  },
  {
   "cell_type": "code",
   "execution_count": 17,
   "id": "a958d8a0",
   "metadata": {},
   "outputs": [
    {
     "data": {
      "text/plain": [
       "<AxesSubplot:ylabel='Submitted via'>"
      ]
     },
     "execution_count": 17,
     "metadata": {},
     "output_type": "execute_result"
    },
    {
     "data": {
      "image/png": "[encoded data removed]",
      "text/plain": [
       "<Figure size 432x288 with 1 Axes>"
      ]
     },
     "metadata": {},
     "output_type": "display_data"
    }
   ],
   "source": [
    "df['Submitted via'].value_counts().plot(kind = 'pie')"
   ]
  },
  {
   "cell_type": "code",
   "execution_count": 18,
   "id": "23be640a",
   "metadata": {},
   "outputs": [
    {
     "data": {
      "text/plain": [
       "Web            0.554907\n",
       "Referral       0.287359\n",
       "Phone          0.084580\n",
       "Postal mail    0.055515\n",
       "Fax            0.017075\n",
       "Email          0.000565\n",
       "Name: Submitted via, dtype: float64"
      ]
     },
     "execution_count": 18,
     "metadata": {},
     "output_type": "execute_result"
    }
   ],
   "source": [
    "df['Submitted via'].value_counts(normalize=True)"
   ]
  },
  {
   "cell_type": "code",
   "execution_count": 19,
   "id": "e08c347f",
   "metadata": {},
   "outputs": [
    {
     "data": {
      "text/plain": [
       "Closed with explanation            148930\n",
       "Closed with monetary relief         22918\n",
       "Closed with non-monetary relief     19005\n",
       "Closed without relief               11119\n",
       "Closed with relief                   2839\n",
       "Closed                               2274\n",
       "Untimely response                     175\n",
       "Name: Company response to consumer, dtype: int64"
      ]
     },
     "execution_count": 19,
     "metadata": {},
     "output_type": "execute_result"
    }
   ],
   "source": [
    "df['Company response to consumer'].value_counts()"
   ]
  },
  {
   "cell_type": "code",
   "execution_count": 20,
   "id": "14f0a58e",
   "metadata": {},
   "outputs": [
    {
     "data": {
      "text/plain": [
       "<AxesSubplot:>"
      ]
     },
     "execution_count": 20,
     "metadata": {},
     "output_type": "execute_result"
    },
    {
     "data": {
      "image/png": "[encoded data removed]",
      "text/plain": [
       "<Figure size 432x288 with 1 Axes>"
      ]
     },
     "metadata": {
      "needs_background": "light"
     },
     "output_type": "display_data"
    }
   ],
   "source": [
    "df['Company response to consumer'].value_counts().plot(kind='barh')"
   ]
  },
  {
   "cell_type": "code",
   "execution_count": 21,
   "id": "a8c850e2",
   "metadata": {},
   "outputs": [
    {
     "data": {
      "text/plain": [
       "Closed with explanation            0.718566\n",
       "Closed with monetary relief        0.110576\n",
       "Closed with non-monetary relief    0.091696\n",
       "Closed without relief              0.053648\n",
       "Closed with relief                 0.013698\n",
       "Closed                             0.010972\n",
       "Untimely response                  0.000844\n",
       "Name: Company response to consumer, dtype: float64"
      ]
     },
     "execution_count": 21,
     "metadata": {},
     "output_type": "execute_result"
    }
   ],
   "source": [
    "df['Company response to consumer'].value_counts(normalize=True)"
   ]
  },
  {
   "cell_type": "code",
   "execution_count": 22,
   "id": "7905787d",
   "metadata": {},
   "outputs": [
    {
     "data": {
      "text/plain": [
       "Yes    202603\n",
       "No       4657\n",
       "Name: Timely response?, dtype: int64"
      ]
     },
     "execution_count": 22,
     "metadata": {},
     "output_type": "execute_result"
    }
   ],
   "source": [
    "df['Timely response?'].value_counts()"
   ]
  },
  {
   "cell_type": "code",
   "execution_count": 23,
   "id": "5f27e16d",
   "metadata": {},
   "outputs": [
    {
     "data": {
      "text/plain": [
       "Date received                        0\n",
       "Product                              0\n",
       "Sub-product                      43015\n",
       "Issue                                0\n",
       "Sub-issue                       196913\n",
       "Consumer complaint narrative    177869\n",
       "Company public response         148802\n",
       "Company                              0\n",
       "State                             2194\n",
       "ZIP code                          9286\n",
       "Tags                            178995\n",
       "Consumer consent provided?      155947\n",
       "Submitted via                        0\n",
       "Date sent to company                 0\n",
       "Company response to consumer         0\n",
       "Timely response?                     0\n",
       "Consumer disputed?                   0\n",
       "Complaint ID                         0\n",
       "dtype: int64"
      ]
     },
     "execution_count": 23,
     "metadata": {},
     "output_type": "execute_result"
    }
   ],
   "source": [
    "df.isna().sum(axis=0)"
   ]
  },
  {
   "cell_type": "code",
   "execution_count": null,
   "id": "f9ac38b4",
   "metadata": {},
   "outputs": [],
   "source": []
  },
  {
   "cell_type": "code",
   "execution_count": 24,
   "id": "f128ebf6",
   "metadata": {},
   "outputs": [
    {
     "data": {
      "text/plain": [
       "No     162357\n",
       "Yes     44903\n",
       "Name: Consumer disputed?, dtype: int64"
      ]
     },
     "execution_count": 24,
     "metadata": {},
     "output_type": "execute_result"
    }
   ],
   "source": [
    "df['Consumer disputed?'].value_counts()"
   ]
  },
  {
   "cell_type": "code",
   "execution_count": 25,
   "id": "cd42d98c",
   "metadata": {},
   "outputs": [],
   "source": [
    "df['Consumer disputed?'].fillna('No', inplace=True)\n",
    "df['Consumer disputed?'] = df['Consumer disputed?'].astype('category')"
   ]
  },
  {
   "cell_type": "code",
   "execution_count": 26,
   "id": "395e6972",
   "metadata": {},
   "outputs": [
    {
     "data": {
      "text/plain": [
       "<AxesSubplot:ylabel='Consumer disputed?'>"
      ]
     },
     "execution_count": 26,
     "metadata": {},
     "output_type": "execute_result"
    },
    {
     "data": {
      "image/png": "[encoded data removed]",
      "text/plain": [
       "<Figure size 432x288 with 1 Axes>"
      ]
     },
     "metadata": {},
     "output_type": "display_data"
    }
   ],
   "source": [
    "df['Consumer disputed?'].value_counts().plot(kind='pie')"
   ]
  },
  {
   "cell_type": "code",
   "execution_count": 27,
   "id": "2cfda3e8",
   "metadata": {},
   "outputs": [
    {
     "data": {
      "text/plain": [
       "No     0.783349\n",
       "Yes    0.216651\n",
       "Name: Consumer disputed?, dtype: float64"
      ]
     },
     "execution_count": 27,
     "metadata": {},
     "output_type": "execute_result"
    }
   ],
   "source": [
    "df['Consumer disputed?'].value_counts() / (df['Consumer disputed?'].value_counts().sum())"
   ]
  },
  {
   "cell_type": "code",
   "execution_count": 28,
   "id": "7e9f566e",
   "metadata": {},
   "outputs": [],
   "source": [
    "X = df[[ 'Product', 'Sub-product', 'Issue', 'Sub-issue',\n",
    "        'Company public response', 'Company',\n",
    "       'State',  'Tags', 'Consumer consent provided?',\n",
    "       'Submitted via',  'Company response to consumer',\n",
    "       'Timely response?']]"
   ]
  },
  {
   "cell_type": "code",
   "execution_count": 29,
   "id": "0868296a",
   "metadata": {},
   "outputs": [
    {
     "name": "stdout",
     "output_type": "stream",
     "text": [
      "207260\n",
      "435\n"
     ]
    }
   ],
   "source": [
    "#missing values check \n",
    "\n",
    "print(len(X)) # Number of rows before dropna()\n",
    "print(len(X.dropna())) # Number of rows after dropna() "
   ]
  },
  {
   "cell_type": "code",
   "execution_count": 30,
   "id": "ea7529a3",
   "metadata": {},
   "outputs": [],
   "source": [
    "# Next, we convert all the X observations into numbers\n",
    "X = pd.get_dummies(X)"
   ]
  },
  {
   "cell_type": "code",
   "execution_count": 31,
   "id": "6b3f66cd",
   "metadata": {},
   "outputs": [],
   "source": [
    "y = df['Consumer disputed?']"
   ]
  },
  {
   "cell_type": "code",
   "execution_count": 32,
   "id": "5a25dd1f",
   "metadata": {},
   "outputs": [
    {
     "name": "stdout",
     "output_type": "stream",
     "text": [
      "['No' 'Yes']\n",
      "['No' 'Yes']\n",
      "\n",
      "Label mapping is: {0: 'No', 1: 'Yes'}\n"
     ]
    }
   ],
   "source": [
    "from sklearn import preprocessing\n",
    "le = preprocessing.LabelEncoder()\n",
    "y = le.fit_transform(df['Consumer disputed?'])\n",
    "print(le.classes_)\n",
    "print(le.inverse_transform(list(set(y))))\n",
    "labels = dict(zip(list(set(y)), le.inverse_transform(list(set(y)))))\n",
    "print(\"\\nLabel mapping is:\", labels)\n"
   ]
  },
  {
   "cell_type": "code",
   "execution_count": 33,
   "id": "e4894407",
   "metadata": {},
   "outputs": [],
   "source": [
    "from sklearn.model_selection import train_test_split\n",
    "X_train, X_test, y_train, y_test = train_test_split(X, y, test_size=0.2)"
   ]
  },
  {
   "cell_type": "code",
   "execution_count": 34,
   "id": "7ec4d8f1",
   "metadata": {},
   "outputs": [
    {
     "name": "stdout",
     "output_type": "stream",
     "text": [
      "(165808, 305)\n",
      "(165808,)\n",
      "(41452, 305)\n",
      "(41452,)\n"
     ]
    }
   ],
   "source": [
    "print(X_train.shape)\n",
    "print(y_train.shape)\n",
    "print(X_test.shape)\n",
    "print(y_test.shape)"
   ]
  },
  {
   "cell_type": "code",
   "execution_count": 35,
   "id": "4adea447",
   "metadata": {},
   "outputs": [],
   "source": [
    "from imblearn.under_sampling import RandomUnderSampler\n",
    "undersampler = RandomUnderSampler()\n",
    "X_train, y_train = undersampler.fit_resample(X_train, y_train)"
   ]
  },
  {
   "cell_type": "code",
   "execution_count": 36,
   "id": "08a05a78",
   "metadata": {},
   "outputs": [
    {
     "data": {
      "text/plain": [
       "0.5"
      ]
     },
     "execution_count": 36,
     "metadata": {},
     "output_type": "execute_result"
    }
   ],
   "source": [
    "y_train.sum()/len(y_train) #just checking that the '1' category is exactly 50% of the training set"
   ]
  },
  {
   "cell_type": "code",
   "execution_count": 37,
   "id": "cf2bc246",
   "metadata": {},
   "outputs": [
    {
     "data": {
      "text/plain": [
       "(71762, 305)"
      ]
     },
     "execution_count": 37,
     "metadata": {},
     "output_type": "execute_result"
    }
   ],
   "source": [
    "X_train.shape"
   ]
  },
  {
   "cell_type": "code",
   "execution_count": 38,
   "id": "6b177736",
   "metadata": {},
   "outputs": [
    {
     "data": {
      "text/plain": [
       "0    35881\n",
       "1    35881\n",
       "dtype: int64"
      ]
     },
     "execution_count": 38,
     "metadata": {},
     "output_type": "execute_result"
    }
   ],
   "source": [
    "pd.DataFrame(y_train).value_counts()"
   ]
  },
  {
   "cell_type": "code",
   "execution_count": 39,
   "id": "3b5b35b1",
   "metadata": {},
   "outputs": [
    {
     "name": "stdout",
     "output_type": "stream",
     "text": [
      "[15:28:36] WARNING: ../src/learner.cc:1095: Starting in XGBoost 1.3.0, the default evaluation metric used with the objective 'binary:logistic' was changed from 'error' to 'logloss'. Explicitly set eval_metric if you'd like to restore the old behavior.\n"
     ]
    },
    {
     "data": {
      "text/plain": [
       "XGBClassifier(base_score=0.5, booster='gbtree', colsample_bylevel=1,\n",
       "              colsample_bynode=1, colsample_bytree=1, gamma=0, gpu_id=-1,\n",
       "              importance_type='gain', interaction_constraints='',\n",
       "              learning_rate=0.300000012, max_delta_step=0, max_depth=6,\n",
       "              min_child_weight=1, missing=nan, monotone_constraints='()',\n",
       "              n_estimators=100, n_jobs=2, num_parallel_tree=1, random_state=0,\n",
       "              reg_alpha=0, reg_lambda=1, scale_pos_weight=1, subsample=1,\n",
       "              tree_method='exact', use_label_encoder=False,\n",
       "              validate_parameters=1, verbosity=None)"
      ]
     },
     "execution_count": 39,
     "metadata": {},
     "output_type": "execute_result"
    }
   ],
   "source": [
    "# Fit the model\n",
    "from xgboost import XGBClassifier\n",
    "\n",
    "model_xgb = XGBClassifier(use_label_encoder=False, objective= 'binary:logistic')\n",
    "model_xgb.fit(X_train, y_train)"
   ]
  },
  {
   "cell_type": "code",
   "execution_count": 40,
   "id": "e091d8b6",
   "metadata": {},
   "outputs": [],
   "source": [
    "# Perform predictions, and store the results in a variable called 'pred'\n",
    "pred = model_xgb.predict(X_test)"
   ]
  },
  {
   "cell_type": "code",
   "execution_count": 41,
   "id": "0341882e",
   "metadata": {},
   "outputs": [
    {
     "data": {
      "text/plain": [
       "1    21032\n",
       "0    20420\n",
       "dtype: int64"
      ]
     },
     "execution_count": 41,
     "metadata": {},
     "output_type": "execute_result"
    }
   ],
   "source": [
    "pd.DataFrame(pred).value_counts()"
   ]
  },
  {
   "cell_type": "code",
   "execution_count": 42,
   "id": "e443de00",
   "metadata": {},
   "outputs": [
    {
     "name": "stdout",
     "output_type": "stream",
     "text": [
      "              precision    recall  f1-score   support\n",
      "\n",
      "           0       0.84      0.53      0.65     32430\n",
      "           1       0.27      0.63      0.38      9022\n",
      "\n",
      "    accuracy                           0.55     41452\n",
      "   macro avg       0.55      0.58      0.51     41452\n",
      "weighted avg       0.71      0.55      0.59     41452\n",
      "\n"
     ]
    },
    {
     "data": {
      "text/plain": [
       "<sklearn.metrics._plot.confusion_matrix.ConfusionMatrixDisplay at 0x7f08dc6b4d60>"
      ]
     },
     "execution_count": 42,
     "metadata": {},
     "output_type": "execute_result"
    },
    {
     "data": {
      "image/png": "[encoded data removed]",
      "text/plain": [
       "<Figure size 432x288 with 2 Axes>"
      ]
     },
     "metadata": {
      "needs_background": "light"
     },
     "output_type": "display_data"
    },
    {
     "data": {
      "image/png": "[encoded data removed]",
      "text/plain": [
       "<Figure size 432x288 with 2 Axes>"
      ]
     },
     "metadata": {
      "needs_background": "light"
     },
     "output_type": "display_data"
    }
   ],
   "source": [
    "# Check the classification report and the confusion matrix\n",
    "print(classification_report(y_true = y_test, y_pred = pred))\n",
    "plot_confusion_matrix(model_xgb, X = X_test, y_true = y_test, cmap='Greys');\n",
    "\n",
    "cm = confusion_matrix(y_test, pred)\n",
    "ConfusionMatrixDisplay(confusion_matrix=cm).plot()"
   ]
  },
  {
   "cell_type": "code",
   "execution_count": null,
   "id": "5a2aaa51",
   "metadata": {},
   "outputs": [],
   "source": []
  },
  {
   "cell_type": "code",
   "execution_count": 59,
   "id": "501077d9",
   "metadata": {},
   "outputs": [],
   "source": [
    "# Set threshold for identifying class 1\n",
    "threshold = 0.34\n"
   ]
  },
  {
   "cell_type": "code",
   "execution_count": 60,
   "id": "aa1dc4b3",
   "metadata": {},
   "outputs": [
    {
     "name": "stdout",
     "output_type": "stream",
     "text": [
      "Confusion Matrix : \n",
      " [[ 5148 27282]\n",
      " [  539  8483]]\n",
      "Test accuracy =  0.3288381742738589\n"
     ]
    }
   ],
   "source": [
    "pred_prob = model_xgb.predict_proba(X_test)\n",
    "pred_prob = pred_prob[:,1]\n",
    "pred = (pred_prob>threshold).astype(int)\n",
    "cm = confusion_matrix(y_test, pred)\n",
    "print (\"Confusion Matrix : \\n\", cm)\n",
    "print('Test accuracy = ', accuracy_score(y_test, pred))"
   ]
  },
  {
   "cell_type": "code",
   "execution_count": 61,
   "id": "34523488",
   "metadata": {},
   "outputs": [
    {
     "name": "stdout",
     "output_type": "stream",
     "text": [
      "              precision    recall  f1-score   support\n",
      "\n",
      "           0       0.91      0.16      0.27     32430\n",
      "           1       0.24      0.94      0.38      9022\n",
      "\n",
      "    accuracy                           0.33     41452\n",
      "   macro avg       0.57      0.55      0.32     41452\n",
      "weighted avg       0.76      0.33      0.29     41452\n",
      "\n"
     ]
    }
   ],
   "source": [
    "print(classification_report(y_true = y_test, y_pred = pred))"
   ]
  },
  {
   "cell_type": "code",
   "execution_count": null,
   "id": "fc0ed4cb",
   "metadata": {},
   "outputs": [],
   "source": []
  },
  {
   "cell_type": "code",
   "execution_count": 62,
   "id": "46d21885",
   "metadata": {},
   "outputs": [],
   "source": [
    "# See what predicted probabilities look like\n",
    "pred_prob= model_xgb.predict_proba(X_test)"
   ]
  },
  {
   "cell_type": "code",
   "execution_count": 63,
   "id": "ae85c1fc",
   "metadata": {},
   "outputs": [],
   "source": [
    "pred_prob = pred_prob[:,1]"
   ]
  },
  {
   "cell_type": "code",
   "execution_count": 64,
   "id": "790e80d3",
   "metadata": {},
   "outputs": [
    {
     "data": {
      "text/plain": [
       "0.6133402209407189"
      ]
     },
     "execution_count": 64,
     "metadata": {},
     "output_type": "execute_result"
    }
   ],
   "source": [
    "# AUC calculation\n",
    "from sklearn import metrics\n",
    "metrics.roc_auc_score(y_test, pred_prob)"
   ]
  },
  {
   "cell_type": "code",
   "execution_count": 65,
   "id": "982c0a00",
   "metadata": {},
   "outputs": [
    {
     "data": {
      "image/png": "[encoded data removed]",
      "text/plain": [
       "<Figure size 648x576 with 1 Axes>"
      ]
     },
     "metadata": {
      "needs_background": "light"
     },
     "output_type": "display_data"
    }
   ],
   "source": [
    "# Source for code below: https://stackoverflow.com/questions/25009284/how-to-plot-roc-curve-in-python\n",
    "fpr, tpr, thresholds = metrics.roc_curve(y_test, pred_prob)\n",
    "roc_auc = metrics.auc(fpr, tpr)\n",
    "plt.figure(figsize = (9,8))\n",
    "plt.title('Receiver Operating Characteristic')\n",
    "plt.plot(fpr, tpr, 'b', label = 'AUC = %0.2f' % roc_auc)\n",
    "plt.legend(loc = 'lower right')\n",
    "plt.plot([0, 1], [0, 1],'r--')\n",
    "plt.xlim([0, 1])\n",
    "plt.ylim([0, 1])\n",
    "plt.ylabel('True Positive Rate')\n",
    "plt.xlabel('False Positive Rate')\n",
    "plt.show()"
   ]
  },
  {
   "cell_type": "code",
   "execution_count": 66,
   "id": "c865de9c",
   "metadata": {},
   "outputs": [
    {
     "data": {
      "text/html": [
       "<div>\n",
       "<style scoped>\n",
       "    .dataframe tbody tr th:only-of-type {\n",
       "        vertical-align: middle;\n",
       "    }\n",
       "\n",
       "    .dataframe tbody tr th {\n",
       "        vertical-align: top;\n",
       "    }\n",
       "\n",
       "    .dataframe thead th {\n",
       "        text-align: right;\n",
       "    }\n",
       "</style>\n",
       "<table border=\"1\" class=\"dataframe\">\n",
       "  <thead>\n",
       "    <tr style=\"text-align: right;\">\n",
       "      <th></th>\n",
       "      <th>TPR</th>\n",
       "      <th>FPR</th>\n",
       "      <th>Threshold</th>\n",
       "    </tr>\n",
       "  </thead>\n",
       "  <tbody>\n",
       "    <tr>\n",
       "      <th>0</th>\n",
       "      <td>1.000000</td>\n",
       "      <td>1.000000</td>\n",
       "      <td>0.005709</td>\n",
       "    </tr>\n",
       "    <tr>\n",
       "      <th>1</th>\n",
       "      <td>1.000000</td>\n",
       "      <td>0.999846</td>\n",
       "      <td>0.008602</td>\n",
       "    </tr>\n",
       "    <tr>\n",
       "      <th>2</th>\n",
       "      <td>1.000000</td>\n",
       "      <td>0.999784</td>\n",
       "      <td>0.008796</td>\n",
       "    </tr>\n",
       "    <tr>\n",
       "      <th>3</th>\n",
       "      <td>1.000000</td>\n",
       "      <td>0.998612</td>\n",
       "      <td>0.094327</td>\n",
       "    </tr>\n",
       "    <tr>\n",
       "      <th>4</th>\n",
       "      <td>0.999889</td>\n",
       "      <td>0.998612</td>\n",
       "      <td>0.094782</td>\n",
       "    </tr>\n",
       "    <tr>\n",
       "      <th>...</th>\n",
       "      <td>...</td>\n",
       "      <td>...</td>\n",
       "      <td>...</td>\n",
       "    </tr>\n",
       "    <tr>\n",
       "      <th>14184</th>\n",
       "      <td>0.000333</td>\n",
       "      <td>0.000278</td>\n",
       "      <td>0.880908</td>\n",
       "    </tr>\n",
       "    <tr>\n",
       "      <th>14185</th>\n",
       "      <td>0.000222</td>\n",
       "      <td>0.000247</td>\n",
       "      <td>0.887187</td>\n",
       "    </tr>\n",
       "    <tr>\n",
       "      <th>14186</th>\n",
       "      <td>0.000222</td>\n",
       "      <td>0.000031</td>\n",
       "      <td>0.917500</td>\n",
       "    </tr>\n",
       "    <tr>\n",
       "      <th>14187</th>\n",
       "      <td>0.000000</td>\n",
       "      <td>0.000031</td>\n",
       "      <td>0.937977</td>\n",
       "    </tr>\n",
       "    <tr>\n",
       "      <th>14188</th>\n",
       "      <td>0.000000</td>\n",
       "      <td>0.000000</td>\n",
       "      <td>1.937977</td>\n",
       "    </tr>\n",
       "  </tbody>\n",
       "</table>\n",
       "<p>14189 rows × 3 columns</p>\n",
       "</div>"
      ],
      "text/plain": [
       "            TPR       FPR  Threshold\n",
       "0      1.000000  1.000000   0.005709\n",
       "1      1.000000  0.999846   0.008602\n",
       "2      1.000000  0.999784   0.008796\n",
       "3      1.000000  0.998612   0.094327\n",
       "4      0.999889  0.998612   0.094782\n",
       "...         ...       ...        ...\n",
       "14184  0.000333  0.000278   0.880908\n",
       "14185  0.000222  0.000247   0.887187\n",
       "14186  0.000222  0.000031   0.917500\n",
       "14187  0.000000  0.000031   0.937977\n",
       "14188  0.000000  0.000000   1.937977\n",
       "\n",
       "[14189 rows x 3 columns]"
      ]
     },
     "execution_count": 66,
     "metadata": {},
     "output_type": "execute_result"
    }
   ],
   "source": [
    "pd.DataFrame({'TPR': tpr, 'FPR': fpr, 'Threshold': thresholds}).sort_values(by = ['Threshold']).reset_index(drop=True)"
   ]
  },
  {
   "cell_type": "code",
   "execution_count": 67,
   "id": "624f1a20",
   "metadata": {},
   "outputs": [
    {
     "name": "stdout",
     "output_type": "stream",
     "text": [
      "Warning: Maximum number of iterations has been exceeded.\n",
      "         Current function value: 0.673631\n",
      "         Iterations: 35\n",
      "         Function evaluations: 36\n",
      "         Gradient evaluations: 36\n"
     ]
    },
    {
     "name": "stderr",
     "output_type": "stream",
     "text": [
      "/opt/conda/envs/mggy8413/lib/python3.9/site-packages/statsmodels/base/model.py:547: HessianInversionWarning: Inverting hessian failed, no bse or cov_params available\n",
      "  warnings.warn('Inverting hessian failed, no bse or cov_params '\n",
      "/opt/conda/envs/mggy8413/lib/python3.9/site-packages/statsmodels/base/model.py:566: ConvergenceWarning: Maximum Likelihood optimization failed to converge. Check mle_retvals\n",
      "  warnings.warn(\"Maximum Likelihood optimization failed to \"\n"
     ]
    },
    {
     "data": {
      "text/html": [
       "<table class=\"simpletable\">\n",
       "<caption>Logit Regression Results</caption>\n",
       "<tr>\n",
       "  <th>Dep. Variable:</th>           <td>y</td>        <th>  No. Observations:  </th>  <td> 71762</td> \n",
       "</tr>\n",
       "<tr>\n",
       "  <th>Model:</th>                 <td>Logit</td>      <th>  Df Residuals:      </th>  <td> 71500</td> \n",
       "</tr>\n",
       "<tr>\n",
       "  <th>Method:</th>                 <td>MLE</td>       <th>  Df Model:          </th>  <td>   261</td> \n",
       "</tr>\n",
       "<tr>\n",
       "  <th>Date:</th>            <td>Fri, 03 Dec 2021</td> <th>  Pseudo R-squ.:     </th>  <td>0.02816</td>\n",
       "</tr>\n",
       "<tr>\n",
       "  <th>Time:</th>                <td>15:40:12</td>     <th>  Log-Likelihood:    </th> <td> -48341.</td>\n",
       "</tr>\n",
       "<tr>\n",
       "  <th>converged:</th>             <td>False</td>      <th>  LL-Null:           </th> <td> -49742.</td>\n",
       "</tr>\n",
       "<tr>\n",
       "  <th>Covariance Type:</th>     <td>nonrobust</td>    <th>  LLR p-value:       </th>  <td> 0.000</td> \n",
       "</tr>\n",
       "</table>\n",
       "<table class=\"simpletable\">\n",
       "<tr>\n",
       "                                                                         <td></td>                                                                            <th>coef</th>     <th>std err</th>      <th>z</th>      <th>P>|z|</th>  <th>[0.025</th>    <th>0.975]</th>  \n",
       "</tr>\n",
       "<tr>\n",
       "  <th>Product_Bank account or service</th>                                                                                                                 <td>   -0.0572</td> <td>      nan</td> <td>      nan</td> <td>   nan</td> <td>      nan</td> <td>      nan</td>\n",
       "</tr>\n",
       "<tr>\n",
       "  <th>Product_Consumer Loan</th>                                                                                                                           <td>    0.0464</td> <td>      nan</td> <td>      nan</td> <td>   nan</td> <td>      nan</td> <td>      nan</td>\n",
       "</tr>\n",
       "<tr>\n",
       "  <th>Product_Credit card</th>                                                                                                                             <td>    0.0752</td> <td>      nan</td> <td>      nan</td> <td>   nan</td> <td>      nan</td> <td>      nan</td>\n",
       "</tr>\n",
       "<tr>\n",
       "  <th>Product_Credit reporting</th>                                                                                                                        <td>   -0.0728</td> <td>      nan</td> <td>      nan</td> <td>   nan</td> <td>      nan</td> <td>      nan</td>\n",
       "</tr>\n",
       "<tr>\n",
       "  <th>Product_Debt collection</th>                                                                                                                         <td>   -0.1429</td> <td>      nan</td> <td>      nan</td> <td>   nan</td> <td>      nan</td> <td>      nan</td>\n",
       "</tr>\n",
       "<tr>\n",
       "  <th>Product_Money transfers</th>                                                                                                                         <td>   -0.0094</td> <td>      nan</td> <td>      nan</td> <td>   nan</td> <td>      nan</td> <td>      nan</td>\n",
       "</tr>\n",
       "<tr>\n",
       "  <th>Product_Mortgage</th>                                                                                                                                <td>   -0.0786</td> <td>      nan</td> <td>      nan</td> <td>   nan</td> <td>      nan</td> <td>      nan</td>\n",
       "</tr>\n",
       "<tr>\n",
       "  <th>Product_Other financial service</th>                                                                                                                 <td>    0.0055</td> <td>      nan</td> <td>      nan</td> <td>   nan</td> <td>      nan</td> <td>      nan</td>\n",
       "</tr>\n",
       "<tr>\n",
       "  <th>Product_Payday loan</th>                                                                                                                             <td>   -0.0113</td> <td>      nan</td> <td>      nan</td> <td>   nan</td> <td>      nan</td> <td>      nan</td>\n",
       "</tr>\n",
       "<tr>\n",
       "  <th>Product_Prepaid card</th>                                                                                                                            <td>   -0.0996</td> <td>      nan</td> <td>      nan</td> <td>   nan</td> <td>      nan</td> <td>      nan</td>\n",
       "</tr>\n",
       "<tr>\n",
       "  <th>Product_Student loan</th>                                                                                                                            <td>   -0.0496</td> <td>      nan</td> <td>      nan</td> <td>   nan</td> <td>      nan</td> <td>      nan</td>\n",
       "</tr>\n",
       "<tr>\n",
       "  <th>Sub-product_(CD) Certificate of deposit</th>                                                                                                         <td>    0.1232</td> <td>      nan</td> <td>      nan</td> <td>   nan</td> <td>      nan</td> <td>      nan</td>\n",
       "</tr>\n",
       "<tr>\n",
       "  <th>Sub-product_Auto</th>                                                                                                                                <td>   -0.0054</td> <td>      nan</td> <td>      nan</td> <td>   nan</td> <td>      nan</td> <td>      nan</td>\n",
       "</tr>\n",
       "<tr>\n",
       "  <th>Sub-product_Cashing a check without an account</th>                                                                                                  <td>   -0.0909</td> <td>      nan</td> <td>      nan</td> <td>   nan</td> <td>      nan</td> <td>      nan</td>\n",
       "</tr>\n",
       "<tr>\n",
       "  <th>Sub-product_Check cashing</th>                                                                                                                       <td>   -0.0255</td> <td>      nan</td> <td>      nan</td> <td>   nan</td> <td>      nan</td> <td>      nan</td>\n",
       "</tr>\n",
       "<tr>\n",
       "  <th>Sub-product_Checking account</th>                                                                                                                    <td>   -0.0541</td> <td>      nan</td> <td>      nan</td> <td>   nan</td> <td>      nan</td> <td>      nan</td>\n",
       "</tr>\n",
       "<tr>\n",
       "  <th>Sub-product_Conventional adjustable mortgage (ARM)</th>                                                                                              <td>   -0.0208</td> <td>      nan</td> <td>      nan</td> <td>   nan</td> <td>      nan</td> <td>      nan</td>\n",
       "</tr>\n",
       "<tr>\n",
       "  <th>Sub-product_Conventional fixed mortgage</th>                                                                                                         <td>   -0.0148</td> <td>      nan</td> <td>      nan</td> <td>   nan</td> <td>      nan</td> <td>      nan</td>\n",
       "</tr>\n",
       "<tr>\n",
       "  <th>Sub-product_Credit card</th>                                                                                                                         <td>   -0.1220</td> <td>      nan</td> <td>      nan</td> <td>   nan</td> <td>      nan</td> <td>      nan</td>\n",
       "</tr>\n",
       "<tr>\n",
       "  <th>Sub-product_Credit repair</th>                                                                                                                       <td>    0.0027</td> <td>      nan</td> <td>      nan</td> <td>   nan</td> <td>      nan</td> <td>      nan</td>\n",
       "</tr>\n",
       "<tr>\n",
       "  <th>Sub-product_Debt settlement</th>                                                                                                                     <td>    0.0029</td> <td>      nan</td> <td>      nan</td> <td>   nan</td> <td>      nan</td> <td>      nan</td>\n",
       "</tr>\n",
       "<tr>\n",
       "  <th>Sub-product_Domestic (US) money transfer</th>                                                                                                        <td>    0.0150</td> <td>      nan</td> <td>      nan</td> <td>   nan</td> <td>      nan</td> <td>      nan</td>\n",
       "</tr>\n",
       "<tr>\n",
       "  <th>Sub-product_Electronic Benefit Transfer / EBT card</th>                                                                                              <td>         0</td> <td>      nan</td> <td>      nan</td> <td>   nan</td> <td>      nan</td> <td>      nan</td>\n",
       "</tr>\n",
       "<tr>\n",
       "  <th>Sub-product_FHA mortgage</th>                                                                                                                        <td>   -0.1145</td> <td>      nan</td> <td>      nan</td> <td>   nan</td> <td>      nan</td> <td>      nan</td>\n",
       "</tr>\n",
       "<tr>\n",
       "  <th>Sub-product_Federal student loan</th>                                                                                                                <td>    0.0020</td> <td>      nan</td> <td>      nan</td> <td>   nan</td> <td>      nan</td> <td>      nan</td>\n",
       "</tr>\n",
       "<tr>\n",
       "  <th>Sub-product_Federal student loan servicing</th>                                                                                                      <td>    0.0205</td> <td>      nan</td> <td>      nan</td> <td>   nan</td> <td>      nan</td> <td>      nan</td>\n",
       "</tr>\n",
       "<tr>\n",
       "  <th>Sub-product_Foreign currency exchange</th>                                                                                                           <td>    0.0030</td> <td>      nan</td> <td>      nan</td> <td>   nan</td> <td>      nan</td> <td>      nan</td>\n",
       "</tr>\n",
       "<tr>\n",
       "  <th>Sub-product_General purpose card</th>                                                                                                                <td>   -0.0979</td> <td>      nan</td> <td>      nan</td> <td>   nan</td> <td>      nan</td> <td>      nan</td>\n",
       "</tr>\n",
       "<tr>\n",
       "  <th>Sub-product_Gift or merchant card</th>                                                                                                               <td>   -0.0024</td> <td>      nan</td> <td>      nan</td> <td>   nan</td> <td>      nan</td> <td>      nan</td>\n",
       "</tr>\n",
       "<tr>\n",
       "  <th>Sub-product_Government benefit payment card</th>                                                                                                     <td>    0.0017</td> <td>      nan</td> <td>      nan</td> <td>   nan</td> <td>      nan</td> <td>      nan</td>\n",
       "</tr>\n",
       "<tr>\n",
       "  <th>Sub-product_Home equity loan or line of credit</th>                                                                                                  <td>    0.2527</td> <td>      nan</td> <td>      nan</td> <td>   nan</td> <td>      nan</td> <td>      nan</td>\n",
       "</tr>\n",
       "<tr>\n",
       "  <th>Sub-product_I do not know</th>                                                                                                                       <td>    0.0143</td> <td>      nan</td> <td>      nan</td> <td>   nan</td> <td>      nan</td> <td>      nan</td>\n",
       "</tr>\n",
       "<tr>\n",
       "  <th>Sub-product_ID prepaid card</th>                                                                                                                     <td>   -0.0025</td> <td>      nan</td> <td>      nan</td> <td>   nan</td> <td>      nan</td> <td>      nan</td>\n",
       "</tr>\n",
       "<tr>\n",
       "  <th>Sub-product_Installment loan</th>                                                                                                                    <td>    0.0746</td> <td>      nan</td> <td>      nan</td> <td>   nan</td> <td>      nan</td> <td>      nan</td>\n",
       "</tr>\n",
       "<tr>\n",
       "  <th>Sub-product_International money transfer</th>                                                                                                        <td>   -0.0244</td> <td>      nan</td> <td>      nan</td> <td>   nan</td> <td>      nan</td> <td>      nan</td>\n",
       "</tr>\n",
       "<tr>\n",
       "  <th>Sub-product_Medical</th>                                                                                                                             <td>   -0.0026</td> <td>      nan</td> <td>      nan</td> <td>   nan</td> <td>      nan</td> <td>      nan</td>\n",
       "</tr>\n",
       "<tr>\n",
       "  <th>Sub-product_Mobile wallet</th>                                                                                                                       <td>   -0.0021</td> <td>      nan</td> <td>      nan</td> <td>   nan</td> <td>      nan</td> <td>      nan</td>\n",
       "</tr>\n",
       "<tr>\n",
       "  <th>Sub-product_Money order</th>                                                                                                                         <td>    0.0019</td> <td>      nan</td> <td>      nan</td> <td>   nan</td> <td>      nan</td> <td>      nan</td>\n",
       "</tr>\n",
       "<tr>\n",
       "  <th>Sub-product_Mortgage</th>                                                                                                                            <td>    0.1570</td> <td>      nan</td> <td>      nan</td> <td>   nan</td> <td>      nan</td> <td>      nan</td>\n",
       "</tr>\n",
       "<tr>\n",
       "  <th>Sub-product_Non-federal student loan</th>                                                                                                            <td>   -0.0670</td> <td>      nan</td> <td>      nan</td> <td>   nan</td> <td>      nan</td> <td>      nan</td>\n",
       "</tr>\n",
       "<tr>\n",
       "  <th>Sub-product_Other (i.e. phone, health club, etc.)</th>                                                                                               <td>   -0.1775</td> <td>      nan</td> <td>      nan</td> <td>   nan</td> <td>      nan</td> <td>      nan</td>\n",
       "</tr>\n",
       "<tr>\n",
       "  <th>Sub-product_Other bank product/service</th>                                                                                                          <td>   -0.0315</td> <td>      nan</td> <td>      nan</td> <td>   nan</td> <td>      nan</td> <td>      nan</td>\n",
       "</tr>\n",
       "<tr>\n",
       "  <th>Sub-product_Other mortgage</th>                                                                                                                      <td>   -0.0441</td> <td>      nan</td> <td>      nan</td> <td>   nan</td> <td>      nan</td> <td>      nan</td>\n",
       "</tr>\n",
       "<tr>\n",
       "  <th>Sub-product_Other special purpose card</th>                                                                                                          <td>    0.0181</td> <td>      nan</td> <td>      nan</td> <td>   nan</td> <td>      nan</td> <td>      nan</td>\n",
       "</tr>\n",
       "<tr>\n",
       "  <th>Sub-product_Pawn loan</th>                                                                                                                           <td>-9.806e-05</td> <td>      nan</td> <td>      nan</td> <td>   nan</td> <td>      nan</td> <td>      nan</td>\n",
       "</tr>\n",
       "<tr>\n",
       "  <th>Sub-product_Payday loan</th>                                                                                                                         <td>   -0.0118</td> <td>      nan</td> <td>      nan</td> <td>   nan</td> <td>      nan</td> <td>      nan</td>\n",
       "</tr>\n",
       "<tr>\n",
       "  <th>Sub-product_Payroll card</th>                                                                                                                        <td>   -0.0139</td> <td>      nan</td> <td>      nan</td> <td>   nan</td> <td>      nan</td> <td>      nan</td>\n",
       "</tr>\n",
       "<tr>\n",
       "  <th>Sub-product_Personal line of credit</th>                                                                                                             <td>    0.0415</td> <td>      nan</td> <td>      nan</td> <td>   nan</td> <td>      nan</td> <td>      nan</td>\n",
       "</tr>\n",
       "<tr>\n",
       "  <th>Sub-product_Refund anticipation check</th>                                                                                                           <td>    0.0286</td> <td>      nan</td> <td>      nan</td> <td>   nan</td> <td>      nan</td> <td>      nan</td>\n",
       "</tr>\n",
       "<tr>\n",
       "  <th>Sub-product_Reverse mortgage</th>                                                                                                                    <td>   -0.0319</td> <td>      nan</td> <td>      nan</td> <td>   nan</td> <td>      nan</td> <td>      nan</td>\n",
       "</tr>\n",
       "<tr>\n",
       "  <th>Sub-product_Savings account</th>                                                                                                                     <td>   -0.0038</td> <td>      nan</td> <td>      nan</td> <td>   nan</td> <td>      nan</td> <td>      nan</td>\n",
       "</tr>\n",
       "<tr>\n",
       "  <th>Sub-product_Second mortgage</th>                                                                                                                     <td>   -0.0207</td> <td>      nan</td> <td>      nan</td> <td>   nan</td> <td>      nan</td> <td>      nan</td>\n",
       "</tr>\n",
       "<tr>\n",
       "  <th>Sub-product_Title loan</th>                                                                                                                          <td>   -0.0094</td> <td>      nan</td> <td>      nan</td> <td>   nan</td> <td>      nan</td> <td>      nan</td>\n",
       "</tr>\n",
       "<tr>\n",
       "  <th>Sub-product_Transit card</th>                                                                                                                        <td>   -0.0006</td> <td>      nan</td> <td>      nan</td> <td>   nan</td> <td>      nan</td> <td>      nan</td>\n",
       "</tr>\n",
       "<tr>\n",
       "  <th>Sub-product_Traveler’s/Cashier’s checks</th>                                                                                                         <td>   -0.0080</td> <td>      nan</td> <td>      nan</td> <td>   nan</td> <td>      nan</td> <td>      nan</td>\n",
       "</tr>\n",
       "<tr>\n",
       "  <th>Sub-product_VA mortgage</th>                                                                                                                         <td>   -0.0844</td> <td>      nan</td> <td>      nan</td> <td>   nan</td> <td>      nan</td> <td>      nan</td>\n",
       "</tr>\n",
       "<tr>\n",
       "  <th>Sub-product_Vehicle lease</th>                                                                                                                       <td>   -0.0071</td> <td>      nan</td> <td>      nan</td> <td>   nan</td> <td>      nan</td> <td>      nan</td>\n",
       "</tr>\n",
       "<tr>\n",
       "  <th>Sub-product_Vehicle loan</th>                                                                                                                        <td>   -0.0531</td> <td>      nan</td> <td>      nan</td> <td>   nan</td> <td>      nan</td> <td>      nan</td>\n",
       "</tr>\n",
       "<tr>\n",
       "  <th>Issue_APR or interest rate</th>                                                                                                                      <td>   -0.1725</td> <td>      nan</td> <td>      nan</td> <td>   nan</td> <td>      nan</td> <td>      nan</td>\n",
       "</tr>\n",
       "<tr>\n",
       "  <th>Issue_Account opening, closing, or management</th>                                                                                                   <td>    0.0032</td> <td>      nan</td> <td>      nan</td> <td>   nan</td> <td>      nan</td> <td>      nan</td>\n",
       "</tr>\n",
       "<tr>\n",
       "  <th>Issue_Account terms and changes</th>                                                                                                                 <td>    0.0124</td> <td>      nan</td> <td>      nan</td> <td>   nan</td> <td>      nan</td> <td>      nan</td>\n",
       "</tr>\n",
       "<tr>\n",
       "  <th>Issue_Adding money</th>                                                                                                                              <td>   -0.0012</td> <td>      nan</td> <td>      nan</td> <td>   nan</td> <td>      nan</td> <td>      nan</td>\n",
       "</tr>\n",
       "<tr>\n",
       "  <th>Issue_Advertising and marketing</th>                                                                                                                 <td>   -0.0298</td> <td>      nan</td> <td>      nan</td> <td>   nan</td> <td>      nan</td> <td>      nan</td>\n",
       "</tr>\n",
       "<tr>\n",
       "  <th>Issue_Advertising, marketing or disclosures</th>                                                                                                     <td>    0.0038</td> <td>      nan</td> <td>      nan</td> <td>   nan</td> <td>      nan</td> <td>      nan</td>\n",
       "</tr>\n",
       "<tr>\n",
       "  <th>Issue_Application processing delay</th>                                                                                                              <td>   -0.0592</td> <td>      nan</td> <td>      nan</td> <td>   nan</td> <td>      nan</td> <td>      nan</td>\n",
       "</tr>\n",
       "<tr>\n",
       "  <th>Issue_Application, originator, mortgage broker</th>                                                                                                  <td>    0.1564</td> <td>      nan</td> <td>      nan</td> <td>   nan</td> <td>      nan</td> <td>      nan</td>\n",
       "</tr>\n",
       "<tr>\n",
       "  <th>Issue_Applied for loan/did not receive money</th>                                                                                                    <td>    0.0007</td> <td>      nan</td> <td>      nan</td> <td>   nan</td> <td>      nan</td> <td>      nan</td>\n",
       "</tr>\n",
       "<tr>\n",
       "  <th>Issue_Arbitration</th>                                                                                                                               <td>    0.0128</td> <td>      nan</td> <td>      nan</td> <td>   nan</td> <td>      nan</td> <td>      nan</td>\n",
       "</tr>\n",
       "<tr>\n",
       "  <th>Issue_Balance transfer</th>                                                                                                                          <td>   -0.0275</td> <td>      nan</td> <td>      nan</td> <td>   nan</td> <td>      nan</td> <td>      nan</td>\n",
       "</tr>\n",
       "<tr>\n",
       "  <th>Issue_Balance transfer fee</th>                                                                                                                      <td>   -0.0067</td> <td>      nan</td> <td>      nan</td> <td>   nan</td> <td>      nan</td> <td>      nan</td>\n",
       "</tr>\n",
       "<tr>\n",
       "  <th>Issue_Bankruptcy</th>                                                                                                                                <td>    0.0234</td> <td>      nan</td> <td>      nan</td> <td>   nan</td> <td>      nan</td> <td>      nan</td>\n",
       "</tr>\n",
       "<tr>\n",
       "  <th>Issue_Billing disputes</th>                                                                                                                          <td>    0.2696</td> <td>      nan</td> <td>      nan</td> <td>   nan</td> <td>      nan</td> <td>      nan</td>\n",
       "</tr>\n",
       "<tr>\n",
       "  <th>Issue_Billing statement</th>                                                                                                                         <td>   -0.0749</td> <td>      nan</td> <td>      nan</td> <td>   nan</td> <td>      nan</td> <td>      nan</td>\n",
       "</tr>\n",
       "<tr>\n",
       "  <th>Issue_Can't contact lender</th>                                                                                                                      <td>   -0.0070</td> <td>      nan</td> <td>      nan</td> <td>   nan</td> <td>      nan</td> <td>      nan</td>\n",
       "</tr>\n",
       "<tr>\n",
       "  <th>Issue_Can't repay my loan</th>                                                                                                                       <td>   -0.1335</td> <td>      nan</td> <td>      nan</td> <td>   nan</td> <td>      nan</td> <td>      nan</td>\n",
       "</tr>\n",
       "<tr>\n",
       "  <th>Issue_Can't stop charges to bank account</th>                                                                                                        <td>    0.0008</td> <td>      nan</td> <td>      nan</td> <td>   nan</td> <td>      nan</td> <td>      nan</td>\n",
       "</tr>\n",
       "<tr>\n",
       "  <th>Issue_Cash advance</th>                                                                                                                              <td>    0.0499</td> <td>      nan</td> <td>      nan</td> <td>   nan</td> <td>      nan</td> <td>      nan</td>\n",
       "</tr>\n",
       "<tr>\n",
       "  <th>Issue_Cash advance fee</th>                                                                                                                          <td>   -0.0016</td> <td>      nan</td> <td>      nan</td> <td>   nan</td> <td>      nan</td> <td>      nan</td>\n",
       "</tr>\n",
       "<tr>\n",
       "  <th>Issue_Charged bank acct wrong day or amt</th>                                                                                                        <td>    0.0057</td> <td>      nan</td> <td>      nan</td> <td>   nan</td> <td>      nan</td> <td>      nan</td>\n",
       "</tr>\n",
       "<tr>\n",
       "  <th>Issue_Charged fees or interest I didn't expect</th>                                                                                                  <td>   -0.0262</td> <td>      nan</td> <td>      nan</td> <td>   nan</td> <td>      nan</td> <td>      nan</td>\n",
       "</tr>\n",
       "<tr>\n",
       "  <th>Issue_Closing/Cancelling account</th>                                                                                                                <td>    0.0564</td> <td>      nan</td> <td>      nan</td> <td>   nan</td> <td>      nan</td> <td>      nan</td>\n",
       "</tr>\n",
       "<tr>\n",
       "  <th>Issue_Collection debt dispute</th>                                                                                                                   <td>    0.0028</td> <td>      nan</td> <td>      nan</td> <td>   nan</td> <td>      nan</td> <td>      nan</td>\n",
       "</tr>\n",
       "<tr>\n",
       "  <th>Issue_Collection practices</th>                                                                                                                      <td>   -0.0270</td> <td>      nan</td> <td>      nan</td> <td>   nan</td> <td>      nan</td> <td>      nan</td>\n",
       "</tr>\n",
       "<tr>\n",
       "  <th>Issue_Communication tactics</th>                                                                                                                     <td>   -0.2302</td> <td>      nan</td> <td>      nan</td> <td>   nan</td> <td>      nan</td> <td>      nan</td>\n",
       "</tr>\n",
       "<tr>\n",
       "  <th>Issue_Cont'd attempts collect debt not owed</th>                                                                                                     <td>    0.0452</td> <td>      nan</td> <td>      nan</td> <td>   nan</td> <td>      nan</td> <td>      nan</td>\n",
       "</tr>\n",
       "<tr>\n",
       "  <th>Issue_Convenience checks</th>                                                                                                                        <td>    0.0310</td> <td>      nan</td> <td>      nan</td> <td>   nan</td> <td>      nan</td> <td>      nan</td>\n",
       "</tr>\n",
       "<tr>\n",
       "  <th>Issue_Credit card protection / Debt protection</th>                                                                                                  <td>    0.1049</td> <td>      nan</td> <td>      nan</td> <td>   nan</td> <td>      nan</td> <td>      nan</td>\n",
       "</tr>\n",
       "<tr>\n",
       "  <th>Issue_Credit decision / Underwriting</th>                                                                                                            <td>    0.1123</td> <td>      nan</td> <td>      nan</td> <td>   nan</td> <td>      nan</td> <td>      nan</td>\n",
       "</tr>\n",
       "<tr>\n",
       "  <th>Issue_Credit determination</th>                                                                                                                      <td>    0.0947</td> <td>      nan</td> <td>      nan</td> <td>   nan</td> <td>      nan</td> <td>      nan</td>\n",
       "</tr>\n",
       "<tr>\n",
       "  <th>Issue_Credit line increase/decrease</th>                                                                                                             <td>    0.0104</td> <td>      nan</td> <td>      nan</td> <td>   nan</td> <td>      nan</td> <td>      nan</td>\n",
       "</tr>\n",
       "<tr>\n",
       "  <th>Issue_Credit monitoring or identity protection</th>                                                                                                  <td>   -0.0160</td> <td>      nan</td> <td>      nan</td> <td>   nan</td> <td>      nan</td> <td>      nan</td>\n",
       "</tr>\n",
       "<tr>\n",
       "  <th>Issue_Credit reporting</th>                                                                                                                          <td>    0.0062</td> <td>      nan</td> <td>      nan</td> <td>   nan</td> <td>      nan</td> <td>      nan</td>\n",
       "</tr>\n",
       "<tr>\n",
       "  <th>Issue_Credit reporting company's investigation</th>                                                                                                  <td>    0.0096</td> <td>      nan</td> <td>      nan</td> <td>   nan</td> <td>      nan</td> <td>      nan</td>\n",
       "</tr>\n",
       "<tr>\n",
       "  <th>Issue_Customer service / Customer relations</th>                                                                                                     <td>   -0.0844</td> <td>      nan</td> <td>      nan</td> <td>   nan</td> <td>      nan</td> <td>      nan</td>\n",
       "</tr>\n",
       "<tr>\n",
       "  <th>Issue_Customer service/Customer relations</th>                                                                                                       <td>    0.0039</td> <td>      nan</td> <td>      nan</td> <td>   nan</td> <td>      nan</td> <td>      nan</td>\n",
       "</tr>\n",
       "<tr>\n",
       "  <th>Issue_Dealing with my lender or servicer</th>                                                                                                        <td>    0.1070</td> <td>      nan</td> <td>      nan</td> <td>   nan</td> <td>      nan</td> <td>      nan</td>\n",
       "</tr>\n",
       "<tr>\n",
       "  <th>Issue_Delinquent account</th>                                                                                                                        <td>   -0.1032</td> <td>      nan</td> <td>      nan</td> <td>   nan</td> <td>      nan</td> <td>      nan</td>\n",
       "</tr>\n",
       "<tr>\n",
       "  <th>Issue_Deposits and withdrawals</th>                                                                                                                  <td>   -0.0170</td> <td>      nan</td> <td>      nan</td> <td>   nan</td> <td>      nan</td> <td>      nan</td>\n",
       "</tr>\n",
       "<tr>\n",
       "  <th>Issue_Disclosure verification of debt</th>                                                                                                           <td>    0.0220</td> <td>      nan</td> <td>      nan</td> <td>   nan</td> <td>      nan</td> <td>      nan</td>\n",
       "</tr>\n",
       "<tr>\n",
       "  <th>Issue_Disclosures</th>                                                                                                                               <td>    0.0039</td> <td>      nan</td> <td>      nan</td> <td>   nan</td> <td>      nan</td> <td>      nan</td>\n",
       "</tr>\n",
       "<tr>\n",
       "  <th>Issue_Excessive fees</th>                                                                                                                            <td>   -0.0037</td> <td>      nan</td> <td>      nan</td> <td>   nan</td> <td>      nan</td> <td>      nan</td>\n",
       "</tr>\n",
       "<tr>\n",
       "  <th>Issue_False statements or representation</th>                                                                                                        <td>    0.0802</td> <td>      nan</td> <td>      nan</td> <td>   nan</td> <td>      nan</td> <td>      nan</td>\n",
       "</tr>\n",
       "<tr>\n",
       "  <th>Issue_Fees</th>                                                                                                                                      <td>   -0.0212</td> <td>      nan</td> <td>      nan</td> <td>   nan</td> <td>      nan</td> <td>      nan</td>\n",
       "</tr>\n",
       "<tr>\n",
       "  <th>Issue_Forbearance / Workout plans</th>                                                                                                               <td>    0.0084</td> <td>      nan</td> <td>      nan</td> <td>   nan</td> <td>      nan</td> <td>      nan</td>\n",
       "</tr>\n",
       "<tr>\n",
       "  <th>Issue_Fraud or scam</th>                                                                                                                             <td>    0.0252</td> <td>      nan</td> <td>      nan</td> <td>   nan</td> <td>      nan</td> <td>      nan</td>\n",
       "</tr>\n",
       "<tr>\n",
       "  <th>Issue_Getting a loan</th>                                                                                                                            <td>    0.0149</td> <td>      nan</td> <td>      nan</td> <td>   nan</td> <td>      nan</td> <td>      nan</td>\n",
       "</tr>\n",
       "<tr>\n",
       "  <th>Issue_Identity theft / Fraud / Embezzlement</th>                                                                                                     <td>   -0.1225</td> <td>      nan</td> <td>      nan</td> <td>   nan</td> <td>      nan</td> <td>      nan</td>\n",
       "</tr>\n",
       "<tr>\n",
       "  <th>Issue_Improper contact or sharing of info</th>                                                                                                       <td>   -0.0487</td> <td>      nan</td> <td>      nan</td> <td>   nan</td> <td>      nan</td> <td>      nan</td>\n",
       "</tr>\n",
       "<tr>\n",
       "  <th>Issue_Improper use of my credit report</th>                                                                                                          <td>   -0.0056</td> <td>      nan</td> <td>      nan</td> <td>   nan</td> <td>      nan</td> <td>      nan</td>\n",
       "</tr>\n",
       "<tr>\n",
       "  <th>Issue_Incorrect exchange rate</th>                                                                                                                   <td>    0.0004</td> <td>      nan</td> <td>      nan</td> <td>   nan</td> <td>      nan</td> <td>      nan</td>\n",
       "</tr>\n",
       "<tr>\n",
       "  <th>Issue_Incorrect information on credit report</th>                                                                                                    <td>   -0.0590</td> <td>      nan</td> <td>      nan</td> <td>   nan</td> <td>      nan</td> <td>      nan</td>\n",
       "</tr>\n",
       "<tr>\n",
       "  <th>Issue_Incorrect/missing disclosures or info</th>                                                                                                     <td>   -0.0056</td> <td>      nan</td> <td>      nan</td> <td>   nan</td> <td>      nan</td> <td>      nan</td>\n",
       "</tr>\n",
       "<tr>\n",
       "  <th>Issue_Late fee</th>                                                                                                                                  <td>   -0.0466</td> <td>      nan</td> <td>      nan</td> <td>   nan</td> <td>      nan</td> <td>      nan</td>\n",
       "</tr>\n",
       "<tr>\n",
       "  <th>Issue_Lender damaged or destroyed property</th>                                                                                                      <td>         0</td> <td>      nan</td> <td>      nan</td> <td>   nan</td> <td>      nan</td> <td>      nan</td>\n",
       "</tr>\n",
       "<tr>\n",
       "  <th>Issue_Lender repossessed or sold the vehicle</th>                                                                                                    <td>         0</td> <td>      nan</td> <td>      nan</td> <td>   nan</td> <td>      nan</td> <td>      nan</td>\n",
       "</tr>\n",
       "<tr>\n",
       "  <th>Issue_Loan modification,collection,foreclosure</th>                                                                                                  <td>    0.0509</td> <td>      nan</td> <td>      nan</td> <td>   nan</td> <td>      nan</td> <td>      nan</td>\n",
       "</tr>\n",
       "<tr>\n",
       "  <th>Issue_Loan servicing, payments, escrow account</th>                                                                                                  <td>    0.1399</td> <td>      nan</td> <td>      nan</td> <td>   nan</td> <td>      nan</td> <td>      nan</td>\n",
       "</tr>\n",
       "<tr>\n",
       "  <th>Issue_Lost or stolen check</th>                                                                                                                      <td>   -0.0038</td> <td>      nan</td> <td>      nan</td> <td>   nan</td> <td>      nan</td> <td>      nan</td>\n",
       "</tr>\n",
       "<tr>\n",
       "  <th>Issue_Lost or stolen money order</th>                                                                                                                <td>    0.0029</td> <td>      nan</td> <td>      nan</td> <td>   nan</td> <td>      nan</td> <td>      nan</td>\n",
       "</tr>\n",
       "<tr>\n",
       "  <th>Issue_Making/receiving payments, sending money</th>                                                                                                  <td>    0.0186</td> <td>      nan</td> <td>      nan</td> <td>   nan</td> <td>      nan</td> <td>      nan</td>\n",
       "</tr>\n",
       "<tr>\n",
       "  <th>Issue_Managing the line of credit</th>                                                                                                               <td>    0.0449</td> <td>      nan</td> <td>      nan</td> <td>   nan</td> <td>      nan</td> <td>      nan</td>\n",
       "</tr>\n",
       "<tr>\n",
       "  <th>Issue_Managing the loan or lease</th>                                                                                                                <td>   -0.0577</td> <td>      nan</td> <td>      nan</td> <td>   nan</td> <td>      nan</td> <td>      nan</td>\n",
       "</tr>\n",
       "<tr>\n",
       "  <th>Issue_Managing, opening, or closing account</th>                                                                                                     <td>   -0.0519</td> <td>      nan</td> <td>      nan</td> <td>   nan</td> <td>      nan</td> <td>      nan</td>\n",
       "</tr>\n",
       "<tr>\n",
       "  <th>Issue_Money was not available when promised</th>                                                                                                     <td>   -0.0808</td> <td>      nan</td> <td>      nan</td> <td>   nan</td> <td>      nan</td> <td>      nan</td>\n",
       "</tr>\n",
       "<tr>\n",
       "  <th>Issue_Other</th>                                                                                                                                     <td>   -0.2319</td> <td>      nan</td> <td>      nan</td> <td>   nan</td> <td>      nan</td> <td>      nan</td>\n",
       "</tr>\n",
       "<tr>\n",
       "  <th>Issue_Other fee</th>                                                                                                                                 <td>   -0.1711</td> <td>      nan</td> <td>      nan</td> <td>   nan</td> <td>      nan</td> <td>      nan</td>\n",
       "</tr>\n",
       "<tr>\n",
       "  <th>Issue_Other service issues</th>                                                                                                                      <td>   -0.0137</td> <td>      nan</td> <td>      nan</td> <td>   nan</td> <td>      nan</td> <td>      nan</td>\n",
       "</tr>\n",
       "<tr>\n",
       "  <th>Issue_Other transaction issues</th>                                                                                                                  <td>   -0.0134</td> <td>      nan</td> <td>      nan</td> <td>   nan</td> <td>      nan</td> <td>      nan</td>\n",
       "</tr>\n",
       "<tr>\n",
       "  <th>Issue_Overdraft, savings or rewards features</th>                                                                                                    <td>    0.0080</td> <td>      nan</td> <td>      nan</td> <td>   nan</td> <td>      nan</td> <td>      nan</td>\n",
       "</tr>\n",
       "<tr>\n",
       "  <th>Issue_Overlimit fee</th>                                                                                                                             <td>   -0.0109</td> <td>      nan</td> <td>      nan</td> <td>   nan</td> <td>      nan</td> <td>      nan</td>\n",
       "</tr>\n",
       "<tr>\n",
       "  <th>Issue_Payment to acct not credited</th>                                                                                                              <td>    0.0054</td> <td>      nan</td> <td>      nan</td> <td>   nan</td> <td>      nan</td> <td>      nan</td>\n",
       "</tr>\n",
       "<tr>\n",
       "  <th>Issue_Payoff process</th>                                                                                                                            <td>   -0.1266</td> <td>      nan</td> <td>      nan</td> <td>   nan</td> <td>      nan</td> <td>      nan</td>\n",
       "</tr>\n",
       "<tr>\n",
       "  <th>Issue_Privacy</th>                                                                                                                                   <td>    0.0458</td> <td>      nan</td> <td>      nan</td> <td>   nan</td> <td>      nan</td> <td>      nan</td>\n",
       "</tr>\n",
       "<tr>\n",
       "  <th>Issue_Problems caused by my funds being low</th>                                                                                                     <td>   -0.0457</td> <td>      nan</td> <td>      nan</td> <td>   nan</td> <td>      nan</td> <td>      nan</td>\n",
       "</tr>\n",
       "<tr>\n",
       "  <th>Issue_Problems when you are unable to pay</th>                                                                                                       <td>   -0.0631</td> <td>      nan</td> <td>      nan</td> <td>   nan</td> <td>      nan</td> <td>      nan</td>\n",
       "</tr>\n",
       "<tr>\n",
       "  <th>Issue_Received a loan I didn't apply for</th>                                                                                                        <td>   -0.0002</td> <td>      nan</td> <td>      nan</td> <td>   nan</td> <td>      nan</td> <td>      nan</td>\n",
       "</tr>\n",
       "<tr>\n",
       "  <th>Issue_Repaying your loan</th>                                                                                                                        <td>   -0.0600</td> <td>      nan</td> <td>      nan</td> <td>   nan</td> <td>      nan</td> <td>      nan</td>\n",
       "</tr>\n",
       "<tr>\n",
       "  <th>Issue_Rewards</th>                                                                                                                                   <td>    0.0213</td> <td>      nan</td> <td>      nan</td> <td>   nan</td> <td>      nan</td> <td>      nan</td>\n",
       "</tr>\n",
       "<tr>\n",
       "  <th>Issue_Sale of account</th>                                                                                                                           <td>    0.0072</td> <td>      nan</td> <td>      nan</td> <td>   nan</td> <td>      nan</td> <td>      nan</td>\n",
       "</tr>\n",
       "<tr>\n",
       "  <th>Issue_Settlement process and costs</th>                                                                                                              <td>    0.1938</td> <td>      nan</td> <td>      nan</td> <td>   nan</td> <td>      nan</td> <td>      nan</td>\n",
       "</tr>\n",
       "<tr>\n",
       "  <th>Issue_Shopping for a line of credit</th>                                                                                                             <td>   -0.0126</td> <td>      nan</td> <td>      nan</td> <td>   nan</td> <td>      nan</td> <td>      nan</td>\n",
       "</tr>\n",
       "<tr>\n",
       "  <th>Issue_Shopping for a loan or lease</th>                                                                                                              <td>    0.0460</td> <td>      nan</td> <td>      nan</td> <td>   nan</td> <td>      nan</td> <td>      nan</td>\n",
       "</tr>\n",
       "<tr>\n",
       "  <th>Issue_Taking out the loan or lease</th>                                                                                                              <td>    0.1081</td> <td>      nan</td> <td>      nan</td> <td>   nan</td> <td>      nan</td> <td>      nan</td>\n",
       "</tr>\n",
       "<tr>\n",
       "  <th>Issue_Taking/threatening an illegal action</th>                                                                                                      <td>   -0.0115</td> <td>      nan</td> <td>      nan</td> <td>   nan</td> <td>      nan</td> <td>      nan</td>\n",
       "</tr>\n",
       "<tr>\n",
       "  <th>Issue_Transaction issue</th>                                                                                                                         <td>   -0.0374</td> <td>      nan</td> <td>      nan</td> <td>   nan</td> <td>      nan</td> <td>      nan</td>\n",
       "</tr>\n",
       "<tr>\n",
       "  <th>Issue_Unable to get credit report/credit score</th>                                                                                                  <td>   -0.0018</td> <td>      nan</td> <td>      nan</td> <td>   nan</td> <td>      nan</td> <td>      nan</td>\n",
       "</tr>\n",
       "<tr>\n",
       "  <th>Issue_Unauthorized transactions/trans. issues</th>                                                                                                   <td>   -0.0320</td> <td>      nan</td> <td>      nan</td> <td>   nan</td> <td>      nan</td> <td>      nan</td>\n",
       "</tr>\n",
       "<tr>\n",
       "  <th>Issue_Unexpected/Other fees</th>                                                                                                                     <td>   -0.0031</td> <td>      nan</td> <td>      nan</td> <td>   nan</td> <td>      nan</td> <td>      nan</td>\n",
       "</tr>\n",
       "<tr>\n",
       "  <th>Issue_Unsolicited issuance of credit card</th>                                                                                                       <td>   -0.0574</td> <td>      nan</td> <td>      nan</td> <td>   nan</td> <td>      nan</td> <td>      nan</td>\n",
       "</tr>\n",
       "<tr>\n",
       "  <th>Issue_Using a debit or ATM card</th>                                                                                                                 <td>   -0.0163</td> <td>      nan</td> <td>      nan</td> <td>   nan</td> <td>      nan</td> <td>      nan</td>\n",
       "</tr>\n",
       "<tr>\n",
       "  <th>Issue_Wrong amount charged or received</th>                                                                                                          <td>    0.0686</td> <td>      nan</td> <td>      nan</td> <td>   nan</td> <td>      nan</td> <td>      nan</td>\n",
       "</tr>\n",
       "<tr>\n",
       "  <th>Sub-issue_Account status</th>                                                                                                                        <td>   -0.0271</td> <td>      nan</td> <td>      nan</td> <td>   nan</td> <td>      nan</td> <td>      nan</td>\n",
       "</tr>\n",
       "<tr>\n",
       "  <th>Sub-issue_Account terms</th>                                                                                                                         <td>    0.0287</td> <td>      nan</td> <td>      nan</td> <td>   nan</td> <td>      nan</td> <td>      nan</td>\n",
       "</tr>\n",
       "<tr>\n",
       "  <th>Sub-issue_Account terms and changes</th>                                                                                                             <td>         0</td> <td>      nan</td> <td>      nan</td> <td>   nan</td> <td>      nan</td> <td>      nan</td>\n",
       "</tr>\n",
       "<tr>\n",
       "  <th>Sub-issue_Attempted to collect wrong amount</th>                                                                                                     <td>    0.1052</td> <td>      nan</td> <td>      nan</td> <td>   nan</td> <td>      nan</td> <td>      nan</td>\n",
       "</tr>\n",
       "<tr>\n",
       "  <th>Sub-issue_Attempted to/Collected exempt funds</th>                                                                                                   <td>   -0.0024</td> <td>      nan</td> <td>      nan</td> <td>   nan</td> <td>      nan</td> <td>      nan</td>\n",
       "</tr>\n",
       "<tr>\n",
       "  <th>Sub-issue_Billing dispute</th>                                                                                                                       <td>   -0.0150</td> <td>      nan</td> <td>      nan</td> <td>   nan</td> <td>      nan</td> <td>      nan</td>\n",
       "</tr>\n",
       "<tr>\n",
       "  <th>Sub-issue_Called after sent written cease of comm</th>                                                                                               <td>    0.0159</td> <td>      nan</td> <td>      nan</td> <td>   nan</td> <td>      nan</td> <td>      nan</td>\n",
       "</tr>\n",
       "<tr>\n",
       "  <th>Sub-issue_Called outside of 8am-9pm</th>                                                                                                             <td>    0.0115</td> <td>      nan</td> <td>      nan</td> <td>   nan</td> <td>      nan</td> <td>      nan</td>\n",
       "</tr>\n",
       "<tr>\n",
       "  <th>Sub-issue_Can't decrease my monthly payments</th>                                                                                                    <td>   -0.0819</td> <td>      nan</td> <td>      nan</td> <td>   nan</td> <td>      nan</td> <td>      nan</td>\n",
       "</tr>\n",
       "<tr>\n",
       "  <th>Sub-issue_Can't get flexible payment options</th>                                                                                                    <td>   -0.0428</td> <td>      nan</td> <td>      nan</td> <td>   nan</td> <td>      nan</td> <td>      nan</td>\n",
       "</tr>\n",
       "<tr>\n",
       "  <th>Sub-issue_Can't qualify for a loan</th>                                                                                                              <td>    0.0114</td> <td>      nan</td> <td>      nan</td> <td>   nan</td> <td>      nan</td> <td>      nan</td>\n",
       "</tr>\n",
       "<tr>\n",
       "  <th>Sub-issue_Can't temporarily postpone payments</th>                                                                                                   <td>   -0.0088</td> <td>      nan</td> <td>      nan</td> <td>   nan</td> <td>      nan</td> <td>      nan</td>\n",
       "</tr>\n",
       "<tr>\n",
       "  <th>Sub-issue_Contacted employer after asked not to</th>                                                                                                 <td>   -0.0213</td> <td>      nan</td> <td>      nan</td> <td>   nan</td> <td>      nan</td> <td>      nan</td>\n",
       "</tr>\n",
       "<tr>\n",
       "  <th>Sub-issue_Contacted me after I asked not to</th>                                                                                                     <td>   -0.0264</td> <td>      nan</td> <td>      nan</td> <td>   nan</td> <td>      nan</td> <td>      nan</td>\n",
       "</tr>\n",
       "<tr>\n",
       "  <th>Sub-issue_Contacted me instead of my attorney</th>                                                                                                   <td>   -0.0008</td> <td>      nan</td> <td>      nan</td> <td>   nan</td> <td>      nan</td> <td>      nan</td>\n",
       "</tr>\n",
       "<tr>\n",
       "  <th>Sub-issue_Debt is not mine</th>                                                                                                                      <td>    0.0507</td> <td>      nan</td> <td>      nan</td> <td>   nan</td> <td>      nan</td> <td>      nan</td>\n",
       "</tr>\n",
       "<tr>\n",
       "  <th>Sub-issue_Debt resulted from identity theft</th>                                                                                                     <td>   -0.0093</td> <td>      nan</td> <td>      nan</td> <td>   nan</td> <td>      nan</td> <td>      nan</td>\n",
       "</tr>\n",
       "<tr>\n",
       "  <th>Sub-issue_Debt was discharged in bankruptcy</th>                                                                                                     <td>    0.0456</td> <td>      nan</td> <td>      nan</td> <td>   nan</td> <td>      nan</td> <td>      nan</td>\n",
       "</tr>\n",
       "<tr>\n",
       "  <th>Sub-issue_Debt was paid</th>                                                                                                                         <td>   -0.0418</td> <td>      nan</td> <td>      nan</td> <td>   nan</td> <td>      nan</td> <td>      nan</td>\n",
       "</tr>\n",
       "<tr>\n",
       "  <th>Sub-issue_Don't agree with fees charged</th>                                                                                                         <td>    0.0159</td> <td>      nan</td> <td>      nan</td> <td>   nan</td> <td>      nan</td> <td>      nan</td>\n",
       "</tr>\n",
       "<tr>\n",
       "  <th>Sub-issue_Frequent or repeated calls</th>                                                                                                            <td>   -0.2323</td> <td>      nan</td> <td>      nan</td> <td>   nan</td> <td>      nan</td> <td>      nan</td>\n",
       "</tr>\n",
       "<tr>\n",
       "  <th>Sub-issue_Having problems with customer service</th>                                                                                                 <td>   -0.0069</td> <td>      nan</td> <td>      nan</td> <td>   nan</td> <td>      nan</td> <td>      nan</td>\n",
       "</tr>\n",
       "<tr>\n",
       "  <th>Sub-issue_Impersonated an attorney or official</th>                                                                                                  <td>   -0.0259</td> <td>      nan</td> <td>      nan</td> <td>   nan</td> <td>      nan</td> <td>      nan</td>\n",
       "</tr>\n",
       "<tr>\n",
       "  <th>Sub-issue_Inadequate help over the phone</th>                                                                                                        <td>    0.0029</td> <td>      nan</td> <td>      nan</td> <td>   nan</td> <td>      nan</td> <td>      nan</td>\n",
       "</tr>\n",
       "<tr>\n",
       "  <th>Sub-issue_Indicated committed crime not paying</th>                                                                                                  <td>   -0.0183</td> <td>      nan</td> <td>      nan</td> <td>   nan</td> <td>      nan</td> <td>      nan</td>\n",
       "</tr>\n",
       "<tr>\n",
       "  <th>Sub-issue_Indicated shouldn't respond to lawsuit</th>                                                                                                <td>    0.0192</td> <td>      nan</td> <td>      nan</td> <td>   nan</td> <td>      nan</td> <td>      nan</td>\n",
       "</tr>\n",
       "<tr>\n",
       "  <th>Sub-issue_Information is not mine</th>                                                                                                               <td>   -0.0311</td> <td>      nan</td> <td>      nan</td> <td>   nan</td> <td>      nan</td> <td>      nan</td>\n",
       "</tr>\n",
       "<tr>\n",
       "  <th>Sub-issue_Investigation took too long</th>                                                                                                           <td>    0.0016</td> <td>      nan</td> <td>      nan</td> <td>   nan</td> <td>      nan</td> <td>      nan</td>\n",
       "</tr>\n",
       "<tr>\n",
       "  <th>Sub-issue_Keep getting calls about my loan</th>                                                                                                      <td>    0.0120</td> <td>      nan</td> <td>      nan</td> <td>   nan</td> <td>      nan</td> <td>      nan</td>\n",
       "</tr>\n",
       "<tr>\n",
       "  <th>Sub-issue_Need information about my balance/terms</th>                                                                                               <td>   -0.0172</td> <td>      nan</td> <td>      nan</td> <td>   nan</td> <td>      nan</td> <td>      nan</td>\n",
       "</tr>\n",
       "<tr>\n",
       "  <th>Sub-issue_No notice of investigation status/result</th>                                                                                              <td>    0.0015</td> <td>      nan</td> <td>      nan</td> <td>   nan</td> <td>      nan</td> <td>      nan</td>\n",
       "</tr>\n",
       "<tr>\n",
       "  <th>Sub-issue_Not disclosed as an attempt to collect</th>                                                                                                <td>    0.0131</td> <td>      nan</td> <td>      nan</td> <td>   nan</td> <td>      nan</td> <td>      nan</td>\n",
       "</tr>\n",
       "<tr>\n",
       "  <th>Sub-issue_Not given enough info to verify debt</th>                                                                                                  <td>   -0.0042</td> <td>      nan</td> <td>      nan</td> <td>   nan</td> <td>      nan</td> <td>      nan</td>\n",
       "</tr>\n",
       "<tr>\n",
       "  <th>Sub-issue_Personal information</th>                                                                                                                  <td>   -0.0057</td> <td>      nan</td> <td>      nan</td> <td>   nan</td> <td>      nan</td> <td>      nan</td>\n",
       "</tr>\n",
       "<tr>\n",
       "  <th>Sub-issue_Problem cancelling or closing account</th>                                                                                                 <td>         0</td> <td>      nan</td> <td>      nan</td> <td>   nan</td> <td>      nan</td> <td>      nan</td>\n",
       "</tr>\n",
       "<tr>\n",
       "  <th>Sub-issue_Problem getting my free annual report</th>                                                                                                 <td>         0</td> <td>      nan</td> <td>      nan</td> <td>   nan</td> <td>      nan</td> <td>      nan</td>\n",
       "</tr>\n",
       "<tr>\n",
       "  <th>Sub-issue_Problem getting report or credit score</th>                                                                                                <td>   -0.0018</td> <td>      nan</td> <td>      nan</td> <td>   nan</td> <td>      nan</td> <td>      nan</td>\n",
       "</tr>\n",
       "<tr>\n",
       "  <th>Sub-issue_Problem with fraud alerts</th>                                                                                                             <td>   -0.0010</td> <td>      nan</td> <td>      nan</td> <td>   nan</td> <td>      nan</td> <td>      nan</td>\n",
       "</tr>\n",
       "<tr>\n",
       "  <th>Sub-issue_Problem with statement of dispute</th>                                                                                                     <td>    0.0035</td> <td>      nan</td> <td>      nan</td> <td>   nan</td> <td>      nan</td> <td>      nan</td>\n",
       "</tr>\n",
       "<tr>\n",
       "  <th>Sub-issue_Public record</th>                                                                                                                         <td>   -0.0224</td> <td>      nan</td> <td>      nan</td> <td>   nan</td> <td>      nan</td> <td>      nan</td>\n",
       "</tr>\n",
       "<tr>\n",
       "  <th>Sub-issue_Qualify for a better loan than offered</th>                                                                                                <td>   -0.0035</td> <td>      nan</td> <td>      nan</td> <td>   nan</td> <td>      nan</td> <td>      nan</td>\n",
       "</tr>\n",
       "<tr>\n",
       "  <th>Sub-issue_Received bad information about my loan</th>                                                                                                <td>    0.1100</td> <td>      nan</td> <td>      nan</td> <td>   nan</td> <td>      nan</td> <td>      nan</td>\n",
       "</tr>\n",
       "<tr>\n",
       "  <th>Sub-issue_Received marketing offer after opted out</th>                                                                                              <td>         0</td> <td>      nan</td> <td>      nan</td> <td>   nan</td> <td>      nan</td> <td>      nan</td>\n",
       "</tr>\n",
       "<tr>\n",
       "  <th>Sub-issue_Receiving unwanted marketing/advertising</th>                                                                                              <td>         0</td> <td>      nan</td> <td>      nan</td> <td>   nan</td> <td>      nan</td> <td>      nan</td>\n",
       "</tr>\n",
       "<tr>\n",
       "  <th>Sub-issue_Reinserted previously deleted info</th>                                                                                                    <td>   -0.0014</td> <td>      nan</td> <td>      nan</td> <td>   nan</td> <td>      nan</td> <td>      nan</td>\n",
       "</tr>\n",
       "<tr>\n",
       "  <th>Sub-issue_Report improperly shared by CRC</th>                                                                                                       <td>   -0.0056</td> <td>      nan</td> <td>      nan</td> <td>   nan</td> <td>      nan</td> <td>      nan</td>\n",
       "</tr>\n",
       "<tr>\n",
       "  <th>Sub-issue_Report shared with employer w/o consent</th>                                                                                               <td>         0</td> <td>      nan</td> <td>      nan</td> <td>   nan</td> <td>      nan</td> <td>      nan</td>\n",
       "</tr>\n",
       "<tr>\n",
       "  <th>Sub-issue_Right to dispute notice not received</th>                                                                                                  <td>    0.0132</td> <td>      nan</td> <td>      nan</td> <td>   nan</td> <td>      nan</td> <td>      nan</td>\n",
       "</tr>\n",
       "<tr>\n",
       "  <th>Sub-issue_Seized/Attempted to seize property</th>                                                                                                    <td>    0.0742</td> <td>      nan</td> <td>      nan</td> <td>   nan</td> <td>      nan</td> <td>      nan</td>\n",
       "</tr>\n",
       "<tr>\n",
       "  <th>Sub-issue_Sued w/o proper notification of suit</th>                                                                                                  <td>    0.0024</td> <td>      nan</td> <td>      nan</td> <td>   nan</td> <td>      nan</td> <td>      nan</td>\n",
       "</tr>\n",
       "<tr>\n",
       "  <th>Sub-issue_Sued where didn't live/sign for debt</th>                                                                                                  <td>   -0.0044</td> <td>      nan</td> <td>      nan</td> <td>   nan</td> <td>      nan</td> <td>      nan</td>\n",
       "</tr>\n",
       "<tr>\n",
       "  <th>Sub-issue_Talked to a third party about my debt</th>                                                                                                 <td>   -0.0002</td> <td>      nan</td> <td>      nan</td> <td>   nan</td> <td>      nan</td> <td>      nan</td>\n",
       "</tr>\n",
       "<tr>\n",
       "  <th>Sub-issue_Threatened arrest/jail if do not pay</th>                                                                                                  <td>   -0.0209</td> <td>      nan</td> <td>      nan</td> <td>   nan</td> <td>      nan</td> <td>      nan</td>\n",
       "</tr>\n",
       "<tr>\n",
       "  <th>Sub-issue_Threatened to sue on too old debt</th>                                                                                                     <td>   -0.0604</td> <td>      nan</td> <td>      nan</td> <td>   nan</td> <td>      nan</td> <td>      nan</td>\n",
       "</tr>\n",
       "<tr>\n",
       "  <th>Sub-issue_Threatened to take legal action</th>                                                                                                       <td>   -0.0141</td> <td>      nan</td> <td>      nan</td> <td>   nan</td> <td>      nan</td> <td>      nan</td>\n",
       "</tr>\n",
       "<tr>\n",
       "  <th>Sub-issue_Trouble with how payments are handled</th>                                                                                                 <td>   -0.0068</td> <td>      nan</td> <td>      nan</td> <td>   nan</td> <td>      nan</td> <td>      nan</td>\n",
       "</tr>\n",
       "<tr>\n",
       "  <th>Sub-issue_Used obscene/profane/abusive language</th>                                                                                                 <td>   -0.0112</td> <td>      nan</td> <td>      nan</td> <td>   nan</td> <td>      nan</td> <td>      nan</td>\n",
       "</tr>\n",
       "<tr>\n",
       "  <th>Company public response_Company believes complaint caused principally by actions of third party outside the control or direction of the company</th> <td>    0.0045</td> <td>      nan</td> <td>      nan</td> <td>   nan</td> <td>      nan</td> <td>      nan</td>\n",
       "</tr>\n",
       "<tr>\n",
       "  <th>Company public response_Company believes complaint is the result of an isolated error</th>                                                           <td>         0</td> <td>      nan</td> <td>      nan</td> <td>   nan</td> <td>      nan</td> <td>      nan</td>\n",
       "</tr>\n",
       "<tr>\n",
       "  <th>Company public response_Company believes complaint relates to a discontinued policy or procedure</th>                                                <td>         0</td> <td>      nan</td> <td>      nan</td> <td>   nan</td> <td>      nan</td> <td>      nan</td>\n",
       "</tr>\n",
       "<tr>\n",
       "  <th>Company public response_Company believes complaint represents an opportunity for improvement to better serve consumers</th>                          <td>         0</td> <td>      nan</td> <td>      nan</td> <td>   nan</td> <td>      nan</td> <td>      nan</td>\n",
       "</tr>\n",
       "<tr>\n",
       "  <th>Company public response_Company believes it acted appropriately as authorized by contract or law</th>                                                <td>    0.0158</td> <td>      nan</td> <td>      nan</td> <td>   nan</td> <td>      nan</td> <td>      nan</td>\n",
       "</tr>\n",
       "<tr>\n",
       "  <th>Company public response_Company believes the complaint is the result of a misunderstanding</th>                                                      <td>   -0.0035</td> <td>      nan</td> <td>      nan</td> <td>   nan</td> <td>      nan</td> <td>      nan</td>\n",
       "</tr>\n",
       "<tr>\n",
       "  <th>Company public response_Company chooses not to provide a public response</th>                                                                        <td>   -0.1674</td> <td>      nan</td> <td>      nan</td> <td>   nan</td> <td>      nan</td> <td>      nan</td>\n",
       "</tr>\n",
       "<tr>\n",
       "  <th>Company public response_Company has responded to the consumer and the CFPB and chooses not to provide a public response</th>                         <td>   -0.3626</td> <td>      nan</td> <td>      nan</td> <td>   nan</td> <td>      nan</td> <td>      nan</td>\n",
       "</tr>\n",
       "<tr>\n",
       "  <th>Company_BANK OF AMERICA, NATIONAL ASSOCIATION</th>                                                                                                   <td>   -0.0044</td> <td>      nan</td> <td>      nan</td> <td>   nan</td> <td>      nan</td> <td>      nan</td>\n",
       "</tr>\n",
       "<tr>\n",
       "  <th>Company_CITIBANK, N.A.</th>                                                                                                                          <td>   -0.1726</td> <td>      nan</td> <td>      nan</td> <td>   nan</td> <td>      nan</td> <td>      nan</td>\n",
       "</tr>\n",
       "<tr>\n",
       "  <th>Company_JPMORGAN CHASE & CO.</th>                                                                                                                    <td>   -0.1497</td> <td>      nan</td> <td>      nan</td> <td>   nan</td> <td>      nan</td> <td>      nan</td>\n",
       "</tr>\n",
       "<tr>\n",
       "  <th>Company_U.S. BANCORP</th>                                                                                                                            <td>   -0.0248</td> <td>      nan</td> <td>      nan</td> <td>   nan</td> <td>      nan</td> <td>      nan</td>\n",
       "</tr>\n",
       "<tr>\n",
       "  <th>Company_WELLS FARGO & COMPANY</th>                                                                                                                   <td>   -0.0426</td> <td>      nan</td> <td>      nan</td> <td>   nan</td> <td>      nan</td> <td>      nan</td>\n",
       "</tr>\n",
       "<tr>\n",
       "  <th>State_AA</th>                                                                                                                                        <td>   -0.0038</td> <td>      nan</td> <td>      nan</td> <td>   nan</td> <td>      nan</td> <td>      nan</td>\n",
       "</tr>\n",
       "<tr>\n",
       "  <th>State_AE</th>                                                                                                                                        <td>    0.0171</td> <td>      nan</td> <td>      nan</td> <td>   nan</td> <td>      nan</td> <td>      nan</td>\n",
       "</tr>\n",
       "<tr>\n",
       "  <th>State_AK</th>                                                                                                                                        <td>    0.0032</td> <td>      nan</td> <td>      nan</td> <td>   nan</td> <td>      nan</td> <td>      nan</td>\n",
       "</tr>\n",
       "<tr>\n",
       "  <th>State_AL</th>                                                                                                                                        <td>   -0.0814</td> <td>      nan</td> <td>      nan</td> <td>   nan</td> <td>      nan</td> <td>      nan</td>\n",
       "</tr>\n",
       "<tr>\n",
       "  <th>State_AP</th>                                                                                                                                        <td>   -0.0039</td> <td>      nan</td> <td>      nan</td> <td>   nan</td> <td>      nan</td> <td>      nan</td>\n",
       "</tr>\n",
       "<tr>\n",
       "  <th>State_AR</th>                                                                                                                                        <td>   -0.0614</td> <td>      nan</td> <td>      nan</td> <td>   nan</td> <td>      nan</td> <td>      nan</td>\n",
       "</tr>\n",
       "<tr>\n",
       "  <th>State_AS</th>                                                                                                                                        <td>    0.0103</td> <td>      nan</td> <td>      nan</td> <td>   nan</td> <td>      nan</td> <td>      nan</td>\n",
       "</tr>\n",
       "<tr>\n",
       "  <th>State_AZ</th>                                                                                                                                        <td>    0.0609</td> <td>      nan</td> <td>      nan</td> <td>   nan</td> <td>      nan</td> <td>      nan</td>\n",
       "</tr>\n",
       "<tr>\n",
       "  <th>State_CA</th>                                                                                                                                        <td>    0.1105</td> <td>      nan</td> <td>      nan</td> <td>   nan</td> <td>      nan</td> <td>      nan</td>\n",
       "</tr>\n",
       "<tr>\n",
       "  <th>State_CO</th>                                                                                                                                        <td>    0.0503</td> <td>      nan</td> <td>      nan</td> <td>   nan</td> <td>      nan</td> <td>      nan</td>\n",
       "</tr>\n",
       "<tr>\n",
       "  <th>State_CT</th>                                                                                                                                        <td>    0.0756</td> <td>      nan</td> <td>      nan</td> <td>   nan</td> <td>      nan</td> <td>      nan</td>\n",
       "</tr>\n",
       "<tr>\n",
       "  <th>State_DC</th>                                                                                                                                        <td>   -0.1437</td> <td>      nan</td> <td>      nan</td> <td>   nan</td> <td>      nan</td> <td>      nan</td>\n",
       "</tr>\n",
       "<tr>\n",
       "  <th>State_DE</th>                                                                                                                                        <td>    0.1055</td> <td>      nan</td> <td>      nan</td> <td>   nan</td> <td>      nan</td> <td>      nan</td>\n",
       "</tr>\n",
       "<tr>\n",
       "  <th>State_FL</th>                                                                                                                                        <td>   -0.0450</td> <td>      nan</td> <td>      nan</td> <td>   nan</td> <td>      nan</td> <td>      nan</td>\n",
       "</tr>\n",
       "<tr>\n",
       "  <th>State_FM</th>                                                                                                                                        <td>    0.0033</td> <td>      nan</td> <td>      nan</td> <td>   nan</td> <td>      nan</td> <td>      nan</td>\n",
       "</tr>\n",
       "<tr>\n",
       "  <th>State_GA</th>                                                                                                                                        <td>   -0.1238</td> <td>      nan</td> <td>      nan</td> <td>   nan</td> <td>      nan</td> <td>      nan</td>\n",
       "</tr>\n",
       "<tr>\n",
       "  <th>State_GU</th>                                                                                                                                        <td>    0.0141</td> <td>      nan</td> <td>      nan</td> <td>   nan</td> <td>      nan</td> <td>      nan</td>\n",
       "</tr>\n",
       "<tr>\n",
       "  <th>State_HI</th>                                                                                                                                        <td>    0.0974</td> <td>      nan</td> <td>      nan</td> <td>   nan</td> <td>      nan</td> <td>      nan</td>\n",
       "</tr>\n",
       "<tr>\n",
       "  <th>State_IA</th>                                                                                                                                        <td>   -0.0344</td> <td>      nan</td> <td>      nan</td> <td>   nan</td> <td>      nan</td> <td>      nan</td>\n",
       "</tr>\n",
       "<tr>\n",
       "  <th>State_ID</th>                                                                                                                                        <td>   -0.0699</td> <td>      nan</td> <td>      nan</td> <td>   nan</td> <td>      nan</td> <td>      nan</td>\n",
       "</tr>\n",
       "<tr>\n",
       "  <th>State_IL</th>                                                                                                                                        <td>   -0.0199</td> <td>      nan</td> <td>      nan</td> <td>   nan</td> <td>      nan</td> <td>      nan</td>\n",
       "</tr>\n",
       "<tr>\n",
       "  <th>State_IN</th>                                                                                                                                        <td>   -0.1256</td> <td>      nan</td> <td>      nan</td> <td>   nan</td> <td>      nan</td> <td>      nan</td>\n",
       "</tr>\n",
       "<tr>\n",
       "  <th>State_KS</th>                                                                                                                                        <td>   -0.0262</td> <td>      nan</td> <td>      nan</td> <td>   nan</td> <td>      nan</td> <td>      nan</td>\n",
       "</tr>\n",
       "<tr>\n",
       "  <th>State_KY</th>                                                                                                                                        <td>    0.0045</td> <td>      nan</td> <td>      nan</td> <td>   nan</td> <td>      nan</td> <td>      nan</td>\n",
       "</tr>\n",
       "<tr>\n",
       "  <th>State_LA</th>                                                                                                                                        <td>   -0.0509</td> <td>      nan</td> <td>      nan</td> <td>   nan</td> <td>      nan</td> <td>      nan</td>\n",
       "</tr>\n",
       "<tr>\n",
       "  <th>State_MA</th>                                                                                                                                        <td>   -0.0944</td> <td>      nan</td> <td>      nan</td> <td>   nan</td> <td>      nan</td> <td>      nan</td>\n",
       "</tr>\n",
       "<tr>\n",
       "  <th>State_MD</th>                                                                                                                                        <td>    0.0346</td> <td>      nan</td> <td>      nan</td> <td>   nan</td> <td>      nan</td> <td>      nan</td>\n",
       "</tr>\n",
       "<tr>\n",
       "  <th>State_ME</th>                                                                                                                                        <td>    0.0171</td> <td>      nan</td> <td>      nan</td> <td>   nan</td> <td>      nan</td> <td>      nan</td>\n",
       "</tr>\n",
       "<tr>\n",
       "  <th>State_MH</th>                                                                                                                                        <td>   -0.0041</td> <td>      nan</td> <td>      nan</td> <td>   nan</td> <td>      nan</td> <td>      nan</td>\n",
       "</tr>\n",
       "<tr>\n",
       "  <th>State_MI</th>                                                                                                                                        <td>   -0.0240</td> <td>      nan</td> <td>      nan</td> <td>   nan</td> <td>      nan</td> <td>      nan</td>\n",
       "</tr>\n",
       "<tr>\n",
       "  <th>State_MN</th>                                                                                                                                        <td>   -0.0247</td> <td>      nan</td> <td>      nan</td> <td>   nan</td> <td>      nan</td> <td>      nan</td>\n",
       "</tr>\n",
       "<tr>\n",
       "  <th>State_MO</th>                                                                                                                                        <td>    0.0273</td> <td>      nan</td> <td>      nan</td> <td>   nan</td> <td>      nan</td> <td>      nan</td>\n",
       "</tr>\n",
       "<tr>\n",
       "  <th>State_MP</th>                                                                                                                                        <td>    0.0089</td> <td>      nan</td> <td>      nan</td> <td>   nan</td> <td>      nan</td> <td>      nan</td>\n",
       "</tr>\n",
       "<tr>\n",
       "  <th>State_MS</th>                                                                                                                                        <td>    0.0164</td> <td>      nan</td> <td>      nan</td> <td>   nan</td> <td>      nan</td> <td>      nan</td>\n",
       "</tr>\n",
       "<tr>\n",
       "  <th>State_MT</th>                                                                                                                                        <td>   -0.0374</td> <td>      nan</td> <td>      nan</td> <td>   nan</td> <td>      nan</td> <td>      nan</td>\n",
       "</tr>\n",
       "<tr>\n",
       "  <th>State_NC</th>                                                                                                                                        <td>   -0.0110</td> <td>      nan</td> <td>      nan</td> <td>   nan</td> <td>      nan</td> <td>      nan</td>\n",
       "</tr>\n",
       "<tr>\n",
       "  <th>State_ND</th>                                                                                                                                        <td>    0.0060</td> <td>      nan</td> <td>      nan</td> <td>   nan</td> <td>      nan</td> <td>      nan</td>\n",
       "</tr>\n",
       "<tr>\n",
       "  <th>State_NE</th>                                                                                                                                        <td>    0.0582</td> <td>      nan</td> <td>      nan</td> <td>   nan</td> <td>      nan</td> <td>      nan</td>\n",
       "</tr>\n",
       "<tr>\n",
       "  <th>State_NH</th>                                                                                                                                        <td>   -0.0300</td> <td>      nan</td> <td>      nan</td> <td>   nan</td> <td>      nan</td> <td>      nan</td>\n",
       "</tr>\n",
       "<tr>\n",
       "  <th>State_NJ</th>                                                                                                                                        <td>   -0.0412</td> <td>      nan</td> <td>      nan</td> <td>   nan</td> <td>      nan</td> <td>      nan</td>\n",
       "</tr>\n",
       "<tr>\n",
       "  <th>State_NM</th>                                                                                                                                        <td>   -0.1452</td> <td>      nan</td> <td>      nan</td> <td>   nan</td> <td>      nan</td> <td>      nan</td>\n",
       "</tr>\n",
       "<tr>\n",
       "  <th>State_NV</th>                                                                                                                                        <td>    0.0037</td> <td>      nan</td> <td>      nan</td> <td>   nan</td> <td>      nan</td> <td>      nan</td>\n",
       "</tr>\n",
       "<tr>\n",
       "  <th>State_NY</th>                                                                                                                                        <td>    0.0488</td> <td>      nan</td> <td>      nan</td> <td>   nan</td> <td>      nan</td> <td>      nan</td>\n",
       "</tr>\n",
       "<tr>\n",
       "  <th>State_OH</th>                                                                                                                                        <td>   -0.0167</td> <td>      nan</td> <td>      nan</td> <td>   nan</td> <td>      nan</td> <td>      nan</td>\n",
       "</tr>\n",
       "<tr>\n",
       "  <th>State_OK</th>                                                                                                                                        <td>   -0.0310</td> <td>      nan</td> <td>      nan</td> <td>   nan</td> <td>      nan</td> <td>      nan</td>\n",
       "</tr>\n",
       "<tr>\n",
       "  <th>State_OR</th>                                                                                                                                        <td>    0.0656</td> <td>      nan</td> <td>      nan</td> <td>   nan</td> <td>      nan</td> <td>      nan</td>\n",
       "</tr>\n",
       "<tr>\n",
       "  <th>State_PA</th>                                                                                                                                        <td>   -0.1454</td> <td>      nan</td> <td>      nan</td> <td>   nan</td> <td>      nan</td> <td>      nan</td>\n",
       "</tr>\n",
       "<tr>\n",
       "  <th>State_PR</th>                                                                                                                                        <td>    0.0354</td> <td>      nan</td> <td>      nan</td> <td>   nan</td> <td>      nan</td> <td>      nan</td>\n",
       "</tr>\n",
       "<tr>\n",
       "  <th>State_PW</th>                                                                                                                                        <td>    0.0034</td> <td>      nan</td> <td>      nan</td> <td>   nan</td> <td>      nan</td> <td>      nan</td>\n",
       "</tr>\n",
       "<tr>\n",
       "  <th>State_RI</th>                                                                                                                                        <td>    0.0088</td> <td>      nan</td> <td>      nan</td> <td>   nan</td> <td>      nan</td> <td>      nan</td>\n",
       "</tr>\n",
       "<tr>\n",
       "  <th>State_SC</th>                                                                                                                                        <td>   -0.0223</td> <td>      nan</td> <td>      nan</td> <td>   nan</td> <td>      nan</td> <td>      nan</td>\n",
       "</tr>\n",
       "<tr>\n",
       "  <th>State_SD</th>                                                                                                                                        <td>   -0.0314</td> <td>      nan</td> <td>      nan</td> <td>   nan</td> <td>      nan</td> <td>      nan</td>\n",
       "</tr>\n",
       "<tr>\n",
       "  <th>State_TN</th>                                                                                                                                        <td>   -0.0483</td> <td>      nan</td> <td>      nan</td> <td>   nan</td> <td>      nan</td> <td>      nan</td>\n",
       "</tr>\n",
       "<tr>\n",
       "  <th>State_TX</th>                                                                                                                                        <td>    0.0034</td> <td>      nan</td> <td>      nan</td> <td>   nan</td> <td>      nan</td> <td>      nan</td>\n",
       "</tr>\n",
       "<tr>\n",
       "  <th>State_UT</th>                                                                                                                                        <td>   -0.0700</td> <td>      nan</td> <td>      nan</td> <td>   nan</td> <td>      nan</td> <td>      nan</td>\n",
       "</tr>\n",
       "<tr>\n",
       "  <th>State_VA</th>                                                                                                                                        <td>    0.0669</td> <td>      nan</td> <td>      nan</td> <td>   nan</td> <td>      nan</td> <td>      nan</td>\n",
       "</tr>\n",
       "<tr>\n",
       "  <th>State_VI</th>                                                                                                                                        <td>    0.0033</td> <td>      nan</td> <td>      nan</td> <td>   nan</td> <td>      nan</td> <td>      nan</td>\n",
       "</tr>\n",
       "<tr>\n",
       "  <th>State_VT</th>                                                                                                                                        <td>    0.0021</td> <td>      nan</td> <td>      nan</td> <td>   nan</td> <td>      nan</td> <td>      nan</td>\n",
       "</tr>\n",
       "<tr>\n",
       "  <th>State_WA</th>                                                                                                                                        <td>    0.0281</td> <td>      nan</td> <td>      nan</td> <td>   nan</td> <td>      nan</td> <td>      nan</td>\n",
       "</tr>\n",
       "<tr>\n",
       "  <th>State_WI</th>                                                                                                                                        <td>    0.1158</td> <td>      nan</td> <td>      nan</td> <td>   nan</td> <td>      nan</td> <td>      nan</td>\n",
       "</tr>\n",
       "<tr>\n",
       "  <th>State_WV</th>                                                                                                                                        <td>   -0.0247</td> <td>      nan</td> <td>      nan</td> <td>   nan</td> <td>      nan</td> <td>      nan</td>\n",
       "</tr>\n",
       "<tr>\n",
       "  <th>State_WY</th>                                                                                                                                        <td>   -0.0109</td> <td>      nan</td> <td>      nan</td> <td>   nan</td> <td>      nan</td> <td>      nan</td>\n",
       "</tr>\n",
       "<tr>\n",
       "  <th>Tags_Older American</th>                                                                                                                             <td>    0.0793</td> <td>      nan</td> <td>      nan</td> <td>   nan</td> <td>      nan</td> <td>      nan</td>\n",
       "</tr>\n",
       "<tr>\n",
       "  <th>Tags_Older American, Servicemember</th>                                                                                                              <td>    0.2124</td> <td>      nan</td> <td>      nan</td> <td>   nan</td> <td>      nan</td> <td>      nan</td>\n",
       "</tr>\n",
       "<tr>\n",
       "  <th>Tags_Servicemember</th>                                                                                                                              <td>   -0.0158</td> <td>      nan</td> <td>      nan</td> <td>   nan</td> <td>      nan</td> <td>      nan</td>\n",
       "</tr>\n",
       "<tr>\n",
       "  <th>Consumer consent provided?_Consent not provided</th>                                                                                                 <td>    0.0240</td> <td>      nan</td> <td>      nan</td> <td>   nan</td> <td>      nan</td> <td>      nan</td>\n",
       "</tr>\n",
       "<tr>\n",
       "  <th>Consumer consent provided?_Consent provided</th>                                                                                                     <td>    0.2313</td> <td>      nan</td> <td>      nan</td> <td>   nan</td> <td>      nan</td> <td>      nan</td>\n",
       "</tr>\n",
       "<tr>\n",
       "  <th>Consumer consent provided?_Consent withdrawn</th>                                                                                                    <td>         0</td> <td>      nan</td> <td>      nan</td> <td>   nan</td> <td>      nan</td> <td>      nan</td>\n",
       "</tr>\n",
       "<tr>\n",
       "  <th>Consumer consent provided?_Other</th>                                                                                                                <td>   -0.1815</td> <td>      nan</td> <td>      nan</td> <td>   nan</td> <td>      nan</td> <td>      nan</td>\n",
       "</tr>\n",
       "<tr>\n",
       "  <th>Submitted via_Email</th>                                                                                                                             <td>   -0.0141</td> <td>      nan</td> <td>      nan</td> <td>   nan</td> <td>      nan</td> <td>      nan</td>\n",
       "</tr>\n",
       "<tr>\n",
       "  <th>Submitted via_Fax</th>                                                                                                                               <td>    0.1498</td> <td>      nan</td> <td>      nan</td> <td>   nan</td> <td>      nan</td> <td>      nan</td>\n",
       "</tr>\n",
       "<tr>\n",
       "  <th>Submitted via_Phone</th>                                                                                                                             <td>   -0.1792</td> <td>      nan</td> <td>      nan</td> <td>   nan</td> <td>      nan</td> <td>      nan</td>\n",
       "</tr>\n",
       "<tr>\n",
       "  <th>Submitted via_Postal mail</th>                                                                                                                       <td>   -0.1615</td> <td>      nan</td> <td>      nan</td> <td>   nan</td> <td>      nan</td> <td>      nan</td>\n",
       "</tr>\n",
       "<tr>\n",
       "  <th>Submitted via_Referral</th>                                                                                                                          <td>   -0.2645</td> <td>      nan</td> <td>      nan</td> <td>   nan</td> <td>      nan</td> <td>      nan</td>\n",
       "</tr>\n",
       "<tr>\n",
       "  <th>Submitted via_Web</th>                                                                                                                               <td>    0.0754</td> <td>      nan</td> <td>      nan</td> <td>   nan</td> <td>      nan</td> <td>      nan</td>\n",
       "</tr>\n",
       "<tr>\n",
       "  <th>Company response to consumer_Closed</th>                                                                                                             <td>    0.3146</td> <td>      nan</td> <td>      nan</td> <td>   nan</td> <td>      nan</td> <td>      nan</td>\n",
       "</tr>\n",
       "<tr>\n",
       "  <th>Company response to consumer_Closed with explanation</th>                                                                                            <td>    0.2573</td> <td>      nan</td> <td>      nan</td> <td>   nan</td> <td>      nan</td> <td>      nan</td>\n",
       "</tr>\n",
       "<tr>\n",
       "  <th>Company response to consumer_Closed with monetary relief</th>                                                                                        <td>   -0.6795</td> <td>      nan</td> <td>      nan</td> <td>   nan</td> <td>      nan</td> <td>      nan</td>\n",
       "</tr>\n",
       "<tr>\n",
       "  <th>Company response to consumer_Closed with non-monetary relief</th>                                                                                    <td>   -0.2161</td> <td>      nan</td> <td>      nan</td> <td>   nan</td> <td>      nan</td> <td>      nan</td>\n",
       "</tr>\n",
       "<tr>\n",
       "  <th>Company response to consumer_Closed with relief</th>                                                                                                 <td>   -0.3919</td> <td>      nan</td> <td>      nan</td> <td>   nan</td> <td>      nan</td> <td>      nan</td>\n",
       "</tr>\n",
       "<tr>\n",
       "  <th>Company response to consumer_Closed without relief</th>                                                                                              <td>    0.4262</td> <td>      nan</td> <td>      nan</td> <td>   nan</td> <td>      nan</td> <td>      nan</td>\n",
       "</tr>\n",
       "<tr>\n",
       "  <th>Company response to consumer_Untimely response</th>                                                                                                  <td>   -0.1048</td> <td>      nan</td> <td>      nan</td> <td>   nan</td> <td>      nan</td> <td>      nan</td>\n",
       "</tr>\n",
       "<tr>\n",
       "  <th>Timely response?_No</th>                                                                                                                             <td>   -0.4505</td> <td>      nan</td> <td>      nan</td> <td>   nan</td> <td>      nan</td> <td>      nan</td>\n",
       "</tr>\n",
       "<tr>\n",
       "  <th>Timely response?_Yes</th>                                                                                                                            <td>    0.0564</td> <td>      nan</td> <td>      nan</td> <td>   nan</td> <td>      nan</td> <td>      nan</td>\n",
       "</tr>\n",
       "</table>"
      ],
      "text/plain": [
       "<class 'statsmodels.iolib.summary.Summary'>\n",
       "\"\"\"\n",
       "                           Logit Regression Results                           \n",
       "==============================================================================\n",
       "Dep. Variable:                      y   No. Observations:                71762\n",
       "Model:                          Logit   Df Residuals:                    71500\n",
       "Method:                           MLE   Df Model:                          261\n",
       "Date:                Fri, 03 Dec 2021   Pseudo R-squ.:                 0.02816\n",
       "Time:                        15:40:12   Log-Likelihood:                -48341.\n",
       "converged:                      False   LL-Null:                       -49742.\n",
       "Covariance Type:            nonrobust   LLR p-value:                     0.000\n",
       "===================================================================================================================================================================================================================\n",
       "                                                                                                                                                      coef    std err          z      P>|z|      [0.025      0.975]\n",
       "-------------------------------------------------------------------------------------------------------------------------------------------------------------------------------------------------------------------\n",
       "Product_Bank account or service                                                                                                                    -0.0572        nan        nan        nan         nan         nan\n",
       "Product_Consumer Loan                                                                                                                               0.0464        nan        nan        nan         nan         nan\n",
       "Product_Credit card                                                                                                                                 0.0752        nan        nan        nan         nan         nan\n",
       "Product_Credit reporting                                                                                                                           -0.0728        nan        nan        nan         nan         nan\n",
       "Product_Debt collection                                                                                                                            -0.1429        nan        nan        nan         nan         nan\n",
       "Product_Money transfers                                                                                                                            -0.0094        nan        nan        nan         nan         nan\n",
       "Product_Mortgage                                                                                                                                   -0.0786        nan        nan        nan         nan         nan\n",
       "Product_Other financial service                                                                                                                     0.0055        nan        nan        nan         nan         nan\n",
       "Product_Payday loan                                                                                                                                -0.0113        nan        nan        nan         nan         nan\n",
       "Product_Prepaid card                                                                                                                               -0.0996        nan        nan        nan         nan         nan\n",
       "Product_Student loan                                                                                                                               -0.0496        nan        nan        nan         nan         nan\n",
       "Sub-product_(CD) Certificate of deposit                                                                                                             0.1232        nan        nan        nan         nan         nan\n",
       "Sub-product_Auto                                                                                                                                   -0.0054        nan        nan        nan         nan         nan\n",
       "Sub-product_Cashing a check without an account                                                                                                     -0.0909        nan        nan        nan         nan         nan\n",
       "Sub-product_Check cashing                                                                                                                          -0.0255        nan        nan        nan         nan         nan\n",
       "Sub-product_Checking account                                                                                                                       -0.0541        nan        nan        nan         nan         nan\n",
       "Sub-product_Conventional adjustable mortgage (ARM)                                                                                                 -0.0208        nan        nan        nan         nan         nan\n",
       "Sub-product_Conventional fixed mortgage                                                                                                            -0.0148        nan        nan        nan         nan         nan\n",
       "Sub-product_Credit card                                                                                                                            -0.1220        nan        nan        nan         nan         nan\n",
       "Sub-product_Credit repair                                                                                                                           0.0027        nan        nan        nan         nan         nan\n",
       "Sub-product_Debt settlement                                                                                                                         0.0029        nan        nan        nan         nan         nan\n",
       "Sub-product_Domestic (US) money transfer                                                                                                            0.0150        nan        nan        nan         nan         nan\n",
       "Sub-product_Electronic Benefit Transfer / EBT card                                                                                                       0        nan        nan        nan         nan         nan\n",
       "Sub-product_FHA mortgage                                                                                                                           -0.1145        nan        nan        nan         nan         nan\n",
       "Sub-product_Federal student loan                                                                                                                    0.0020        nan        nan        nan         nan         nan\n",
       "Sub-product_Federal student loan servicing                                                                                                          0.0205        nan        nan        nan         nan         nan\n",
       "Sub-product_Foreign currency exchange                                                                                                               0.0030        nan        nan        nan         nan         nan\n",
       "Sub-product_General purpose card                                                                                                                   -0.0979        nan        nan        nan         nan         nan\n",
       "Sub-product_Gift or merchant card                                                                                                                  -0.0024        nan        nan        nan         nan         nan\n",
       "Sub-product_Government benefit payment card                                                                                                         0.0017        nan        nan        nan         nan         nan\n",
       "Sub-product_Home equity loan or line of credit                                                                                                      0.2527        nan        nan        nan         nan         nan\n",
       "Sub-product_I do not know                                                                                                                           0.0143        nan        nan        nan         nan         nan\n",
       "Sub-product_ID prepaid card                                                                                                                        -0.0025        nan        nan        nan         nan         nan\n",
       "Sub-product_Installment loan                                                                                                                        0.0746        nan        nan        nan         nan         nan\n",
       "Sub-product_International money transfer                                                                                                           -0.0244        nan        nan        nan         nan         nan\n",
       "Sub-product_Medical                                                                                                                                -0.0026        nan        nan        nan         nan         nan\n",
       "Sub-product_Mobile wallet                                                                                                                          -0.0021        nan        nan        nan         nan         nan\n",
       "Sub-product_Money order                                                                                                                             0.0019        nan        nan        nan         nan         nan\n",
       "Sub-product_Mortgage                                                                                                                                0.1570        nan        nan        nan         nan         nan\n",
       "Sub-product_Non-federal student loan                                                                                                               -0.0670        nan        nan        nan         nan         nan\n",
       "Sub-product_Other (i.e. phone, health club, etc.)                                                                                                  -0.1775        nan        nan        nan         nan         nan\n",
       "Sub-product_Other bank product/service                                                                                                             -0.0315        nan        nan        nan         nan         nan\n",
       "Sub-product_Other mortgage                                                                                                                         -0.0441        nan        nan        nan         nan         nan\n",
       "Sub-product_Other special purpose card                                                                                                              0.0181        nan        nan        nan         nan         nan\n",
       "Sub-product_Pawn loan                                                                                                                           -9.806e-05        nan        nan        nan         nan         nan\n",
       "Sub-product_Payday loan                                                                                                                            -0.0118        nan        nan        nan         nan         nan\n",
       "Sub-product_Payroll card                                                                                                                           -0.0139        nan        nan        nan         nan         nan\n",
       "Sub-product_Personal line of credit                                                                                                                 0.0415        nan        nan        nan         nan         nan\n",
       "Sub-product_Refund anticipation check                                                                                                               0.0286        nan        nan        nan         nan         nan\n",
       "Sub-product_Reverse mortgage                                                                                                                       -0.0319        nan        nan        nan         nan         nan\n",
       "Sub-product_Savings account                                                                                                                        -0.0038        nan        nan        nan         nan         nan\n",
       "Sub-product_Second mortgage                                                                                                                        -0.0207        nan        nan        nan         nan         nan\n",
       "Sub-product_Title loan                                                                                                                             -0.0094        nan        nan        nan         nan         nan\n",
       "Sub-product_Transit card                                                                                                                           -0.0006        nan        nan        nan         nan         nan\n",
       "Sub-product_Traveler’s/Cashier’s checks                                                                                                            -0.0080        nan        nan        nan         nan         nan\n",
       "Sub-product_VA mortgage                                                                                                                            -0.0844        nan        nan        nan         nan         nan\n",
       "Sub-product_Vehicle lease                                                                                                                          -0.0071        nan        nan        nan         nan         nan\n",
       "Sub-product_Vehicle loan                                                                                                                           -0.0531        nan        nan        nan         nan         nan\n",
       "Issue_APR or interest rate                                                                                                                         -0.1725        nan        nan        nan         nan         nan\n",
       "Issue_Account opening, closing, or management                                                                                                       0.0032        nan        nan        nan         nan         nan\n",
       "Issue_Account terms and changes                                                                                                                     0.0124        nan        nan        nan         nan         nan\n",
       "Issue_Adding money                                                                                                                                 -0.0012        nan        nan        nan         nan         nan\n",
       "Issue_Advertising and marketing                                                                                                                    -0.0298        nan        nan        nan         nan         nan\n",
       "Issue_Advertising, marketing or disclosures                                                                                                         0.0038        nan        nan        nan         nan         nan\n",
       "Issue_Application processing delay                                                                                                                 -0.0592        nan        nan        nan         nan         nan\n",
       "Issue_Application, originator, mortgage broker                                                                                                      0.1564        nan        nan        nan         nan         nan\n",
       "Issue_Applied for loan/did not receive money                                                                                                        0.0007        nan        nan        nan         nan         nan\n",
       "Issue_Arbitration                                                                                                                                   0.0128        nan        nan        nan         nan         nan\n",
       "Issue_Balance transfer                                                                                                                             -0.0275        nan        nan        nan         nan         nan\n",
       "Issue_Balance transfer fee                                                                                                                         -0.0067        nan        nan        nan         nan         nan\n",
       "Issue_Bankruptcy                                                                                                                                    0.0234        nan        nan        nan         nan         nan\n",
       "Issue_Billing disputes                                                                                                                              0.2696        nan        nan        nan         nan         nan\n",
       "Issue_Billing statement                                                                                                                            -0.0749        nan        nan        nan         nan         nan\n",
       "Issue_Can't contact lender                                                                                                                         -0.0070        nan        nan        nan         nan         nan\n",
       "Issue_Can't repay my loan                                                                                                                          -0.1335        nan        nan        nan         nan         nan\n",
       "Issue_Can't stop charges to bank account                                                                                                            0.0008        nan        nan        nan         nan         nan\n",
       "Issue_Cash advance                                                                                                                                  0.0499        nan        nan        nan         nan         nan\n",
       "Issue_Cash advance fee                                                                                                                             -0.0016        nan        nan        nan         nan         nan\n",
       "Issue_Charged bank acct wrong day or amt                                                                                                            0.0057        nan        nan        nan         nan         nan\n",
       "Issue_Charged fees or interest I didn't expect                                                                                                     -0.0262        nan        nan        nan         nan         nan\n",
       "Issue_Closing/Cancelling account                                                                                                                    0.0564        nan        nan        nan         nan         nan\n",
       "Issue_Collection debt dispute                                                                                                                       0.0028        nan        nan        nan         nan         nan\n",
       "Issue_Collection practices                                                                                                                         -0.0270        nan        nan        nan         nan         nan\n",
       "Issue_Communication tactics                                                                                                                        -0.2302        nan        nan        nan         nan         nan\n",
       "Issue_Cont'd attempts collect debt not owed                                                                                                         0.0452        nan        nan        nan         nan         nan\n",
       "Issue_Convenience checks                                                                                                                            0.0310        nan        nan        nan         nan         nan\n",
       "Issue_Credit card protection / Debt protection                                                                                                      0.1049        nan        nan        nan         nan         nan\n",
       "Issue_Credit decision / Underwriting                                                                                                                0.1123        nan        nan        nan         nan         nan\n",
       "Issue_Credit determination                                                                                                                          0.0947        nan        nan        nan         nan         nan\n",
       "Issue_Credit line increase/decrease                                                                                                                 0.0104        nan        nan        nan         nan         nan\n",
       "Issue_Credit monitoring or identity protection                                                                                                     -0.0160        nan        nan        nan         nan         nan\n",
       "Issue_Credit reporting                                                                                                                              0.0062        nan        nan        nan         nan         nan\n",
       "Issue_Credit reporting company's investigation                                                                                                      0.0096        nan        nan        nan         nan         nan\n",
       "Issue_Customer service / Customer relations                                                                                                        -0.0844        nan        nan        nan         nan         nan\n",
       "Issue_Customer service/Customer relations                                                                                                           0.0039        nan        nan        nan         nan         nan\n",
       "Issue_Dealing with my lender or servicer                                                                                                            0.1070        nan        nan        nan         nan         nan\n",
       "Issue_Delinquent account                                                                                                                           -0.1032        nan        nan        nan         nan         nan\n",
       "Issue_Deposits and withdrawals                                                                                                                     -0.0170        nan        nan        nan         nan         nan\n",
       "Issue_Disclosure verification of debt                                                                                                               0.0220        nan        nan        nan         nan         nan\n",
       "Issue_Disclosures                                                                                                                                   0.0039        nan        nan        nan         nan         nan\n",
       "Issue_Excessive fees                                                                                                                               -0.0037        nan        nan        nan         nan         nan\n",
       "Issue_False statements or representation                                                                                                            0.0802        nan        nan        nan         nan         nan\n",
       "Issue_Fees                                                                                                                                         -0.0212        nan        nan        nan         nan         nan\n",
       "Issue_Forbearance / Workout plans                                                                                                                   0.0084        nan        nan        nan         nan         nan\n",
       "Issue_Fraud or scam                                                                                                                                 0.0252        nan        nan        nan         nan         nan\n",
       "Issue_Getting a loan                                                                                                                                0.0149        nan        nan        nan         nan         nan\n",
       "Issue_Identity theft / Fraud / Embezzlement                                                                                                        -0.1225        nan        nan        nan         nan         nan\n",
       "Issue_Improper contact or sharing of info                                                                                                          -0.0487        nan        nan        nan         nan         nan\n",
       "Issue_Improper use of my credit report                                                                                                             -0.0056        nan        nan        nan         nan         nan\n",
       "Issue_Incorrect exchange rate                                                                                                                       0.0004        nan        nan        nan         nan         nan\n",
       "Issue_Incorrect information on credit report                                                                                                       -0.0590        nan        nan        nan         nan         nan\n",
       "Issue_Incorrect/missing disclosures or info                                                                                                        -0.0056        nan        nan        nan         nan         nan\n",
       "Issue_Late fee                                                                                                                                     -0.0466        nan        nan        nan         nan         nan\n",
       "Issue_Lender damaged or destroyed property                                                                                                               0        nan        nan        nan         nan         nan\n",
       "Issue_Lender repossessed or sold the vehicle                                                                                                             0        nan        nan        nan         nan         nan\n",
       "Issue_Loan modification,collection,foreclosure                                                                                                      0.0509        nan        nan        nan         nan         nan\n",
       "Issue_Loan servicing, payments, escrow account                                                                                                      0.1399        nan        nan        nan         nan         nan\n",
       "Issue_Lost or stolen check                                                                                                                         -0.0038        nan        nan        nan         nan         nan\n",
       "Issue_Lost or stolen money order                                                                                                                    0.0029        nan        nan        nan         nan         nan\n",
       "Issue_Making/receiving payments, sending money                                                                                                      0.0186        nan        nan        nan         nan         nan\n",
       "Issue_Managing the line of credit                                                                                                                   0.0449        nan        nan        nan         nan         nan\n",
       "Issue_Managing the loan or lease                                                                                                                   -0.0577        nan        nan        nan         nan         nan\n",
       "Issue_Managing, opening, or closing account                                                                                                        -0.0519        nan        nan        nan         nan         nan\n",
       "Issue_Money was not available when promised                                                                                                        -0.0808        nan        nan        nan         nan         nan\n",
       "Issue_Other                                                                                                                                        -0.2319        nan        nan        nan         nan         nan\n",
       "Issue_Other fee                                                                                                                                    -0.1711        nan        nan        nan         nan         nan\n",
       "Issue_Other service issues                                                                                                                         -0.0137        nan        nan        nan         nan         nan\n",
       "Issue_Other transaction issues                                                                                                                     -0.0134        nan        nan        nan         nan         nan\n",
       "Issue_Overdraft, savings or rewards features                                                                                                        0.0080        nan        nan        nan         nan         nan\n",
       "Issue_Overlimit fee                                                                                                                                -0.0109        nan        nan        nan         nan         nan\n",
       "Issue_Payment to acct not credited                                                                                                                  0.0054        nan        nan        nan         nan         nan\n",
       "Issue_Payoff process                                                                                                                               -0.1266        nan        nan        nan         nan         nan\n",
       "Issue_Privacy                                                                                                                                       0.0458        nan        nan        nan         nan         nan\n",
       "Issue_Problems caused by my funds being low                                                                                                        -0.0457        nan        nan        nan         nan         nan\n",
       "Issue_Problems when you are unable to pay                                                                                                          -0.0631        nan        nan        nan         nan         nan\n",
       "Issue_Received a loan I didn't apply for                                                                                                           -0.0002        nan        nan        nan         nan         nan\n",
       "Issue_Repaying your loan                                                                                                                           -0.0600        nan        nan        nan         nan         nan\n",
       "Issue_Rewards                                                                                                                                       0.0213        nan        nan        nan         nan         nan\n",
       "Issue_Sale of account                                                                                                                               0.0072        nan        nan        nan         nan         nan\n",
       "Issue_Settlement process and costs                                                                                                                  0.1938        nan        nan        nan         nan         nan\n",
       "Issue_Shopping for a line of credit                                                                                                                -0.0126        nan        nan        nan         nan         nan\n",
       "Issue_Shopping for a loan or lease                                                                                                                  0.0460        nan        nan        nan         nan         nan\n",
       "Issue_Taking out the loan or lease                                                                                                                  0.1081        nan        nan        nan         nan         nan\n",
       "Issue_Taking/threatening an illegal action                                                                                                         -0.0115        nan        nan        nan         nan         nan\n",
       "Issue_Transaction issue                                                                                                                            -0.0374        nan        nan        nan         nan         nan\n",
       "Issue_Unable to get credit report/credit score                                                                                                     -0.0018        nan        nan        nan         nan         nan\n",
       "Issue_Unauthorized transactions/trans. issues                                                                                                      -0.0320        nan        nan        nan         nan         nan\n",
       "Issue_Unexpected/Other fees                                                                                                                        -0.0031        nan        nan        nan         nan         nan\n",
       "Issue_Unsolicited issuance of credit card                                                                                                          -0.0574        nan        nan        nan         nan         nan\n",
       "Issue_Using a debit or ATM card                                                                                                                    -0.0163        nan        nan        nan         nan         nan\n",
       "Issue_Wrong amount charged or received                                                                                                              0.0686        nan        nan        nan         nan         nan\n",
       "Sub-issue_Account status                                                                                                                           -0.0271        nan        nan        nan         nan         nan\n",
       "Sub-issue_Account terms                                                                                                                             0.0287        nan        nan        nan         nan         nan\n",
       "Sub-issue_Account terms and changes                                                                                                                      0        nan        nan        nan         nan         nan\n",
       "Sub-issue_Attempted to collect wrong amount                                                                                                         0.1052        nan        nan        nan         nan         nan\n",
       "Sub-issue_Attempted to/Collected exempt funds                                                                                                      -0.0024        nan        nan        nan         nan         nan\n",
       "Sub-issue_Billing dispute                                                                                                                          -0.0150        nan        nan        nan         nan         nan\n",
       "Sub-issue_Called after sent written cease of comm                                                                                                   0.0159        nan        nan        nan         nan         nan\n",
       "Sub-issue_Called outside of 8am-9pm                                                                                                                 0.0115        nan        nan        nan         nan         nan\n",
       "Sub-issue_Can't decrease my monthly payments                                                                                                       -0.0819        nan        nan        nan         nan         nan\n",
       "Sub-issue_Can't get flexible payment options                                                                                                       -0.0428        nan        nan        nan         nan         nan\n",
       "Sub-issue_Can't qualify for a loan                                                                                                                  0.0114        nan        nan        nan         nan         nan\n",
       "Sub-issue_Can't temporarily postpone payments                                                                                                      -0.0088        nan        nan        nan         nan         nan\n",
       "Sub-issue_Contacted employer after asked not to                                                                                                    -0.0213        nan        nan        nan         nan         nan\n",
       "Sub-issue_Contacted me after I asked not to                                                                                                        -0.0264        nan        nan        nan         nan         nan\n",
       "Sub-issue_Contacted me instead of my attorney                                                                                                      -0.0008        nan        nan        nan         nan         nan\n",
       "Sub-issue_Debt is not mine                                                                                                                          0.0507        nan        nan        nan         nan         nan\n",
       "Sub-issue_Debt resulted from identity theft                                                                                                        -0.0093        nan        nan        nan         nan         nan\n",
       "Sub-issue_Debt was discharged in bankruptcy                                                                                                         0.0456        nan        nan        nan         nan         nan\n",
       "Sub-issue_Debt was paid                                                                                                                            -0.0418        nan        nan        nan         nan         nan\n",
       "Sub-issue_Don't agree with fees charged                                                                                                             0.0159        nan        nan        nan         nan         nan\n",
       "Sub-issue_Frequent or repeated calls                                                                                                               -0.2323        nan        nan        nan         nan         nan\n",
       "Sub-issue_Having problems with customer service                                                                                                    -0.0069        nan        nan        nan         nan         nan\n",
       "Sub-issue_Impersonated an attorney or official                                                                                                     -0.0259        nan        nan        nan         nan         nan\n",
       "Sub-issue_Inadequate help over the phone                                                                                                            0.0029        nan        nan        nan         nan         nan\n",
       "Sub-issue_Indicated committed crime not paying                                                                                                     -0.0183        nan        nan        nan         nan         nan\n",
       "Sub-issue_Indicated shouldn't respond to lawsuit                                                                                                    0.0192        nan        nan        nan         nan         nan\n",
       "Sub-issue_Information is not mine                                                                                                                  -0.0311        nan        nan        nan         nan         nan\n",
       "Sub-issue_Investigation took too long                                                                                                               0.0016        nan        nan        nan         nan         nan\n",
       "Sub-issue_Keep getting calls about my loan                                                                                                          0.0120        nan        nan        nan         nan         nan\n",
       "Sub-issue_Need information about my balance/terms                                                                                                  -0.0172        nan        nan        nan         nan         nan\n",
       "Sub-issue_No notice of investigation status/result                                                                                                  0.0015        nan        nan        nan         nan         nan\n",
       "Sub-issue_Not disclosed as an attempt to collect                                                                                                    0.0131        nan        nan        nan         nan         nan\n",
       "Sub-issue_Not given enough info to verify debt                                                                                                     -0.0042        nan        nan        nan         nan         nan\n",
       "Sub-issue_Personal information                                                                                                                     -0.0057        nan        nan        nan         nan         nan\n",
       "Sub-issue_Problem cancelling or closing account                                                                                                          0        nan        nan        nan         nan         nan\n",
       "Sub-issue_Problem getting my free annual report                                                                                                          0        nan        nan        nan         nan         nan\n",
       "Sub-issue_Problem getting report or credit score                                                                                                   -0.0018        nan        nan        nan         nan         nan\n",
       "Sub-issue_Problem with fraud alerts                                                                                                                -0.0010        nan        nan        nan         nan         nan\n",
       "Sub-issue_Problem with statement of dispute                                                                                                         0.0035        nan        nan        nan         nan         nan\n",
       "Sub-issue_Public record                                                                                                                            -0.0224        nan        nan        nan         nan         nan\n",
       "Sub-issue_Qualify for a better loan than offered                                                                                                   -0.0035        nan        nan        nan         nan         nan\n",
       "Sub-issue_Received bad information about my loan                                                                                                    0.1100        nan        nan        nan         nan         nan\n",
       "Sub-issue_Received marketing offer after opted out                                                                                                       0        nan        nan        nan         nan         nan\n",
       "Sub-issue_Receiving unwanted marketing/advertising                                                                                                       0        nan        nan        nan         nan         nan\n",
       "Sub-issue_Reinserted previously deleted info                                                                                                       -0.0014        nan        nan        nan         nan         nan\n",
       "Sub-issue_Report improperly shared by CRC                                                                                                          -0.0056        nan        nan        nan         nan         nan\n",
       "Sub-issue_Report shared with employer w/o consent                                                                                                        0        nan        nan        nan         nan         nan\n",
       "Sub-issue_Right to dispute notice not received                                                                                                      0.0132        nan        nan        nan         nan         nan\n",
       "Sub-issue_Seized/Attempted to seize property                                                                                                        0.0742        nan        nan        nan         nan         nan\n",
       "Sub-issue_Sued w/o proper notification of suit                                                                                                      0.0024        nan        nan        nan         nan         nan\n",
       "Sub-issue_Sued where didn't live/sign for debt                                                                                                     -0.0044        nan        nan        nan         nan         nan\n",
       "Sub-issue_Talked to a third party about my debt                                                                                                    -0.0002        nan        nan        nan         nan         nan\n",
       "Sub-issue_Threatened arrest/jail if do not pay                                                                                                     -0.0209        nan        nan        nan         nan         nan\n",
       "Sub-issue_Threatened to sue on too old debt                                                                                                        -0.0604        nan        nan        nan         nan         nan\n",
       "Sub-issue_Threatened to take legal action                                                                                                          -0.0141        nan        nan        nan         nan         nan\n",
       "Sub-issue_Trouble with how payments are handled                                                                                                    -0.0068        nan        nan        nan         nan         nan\n",
       "Sub-issue_Used obscene/profane/abusive language                                                                                                    -0.0112        nan        nan        nan         nan         nan\n",
       "Company public response_Company believes complaint caused principally by actions of third party outside the control or direction of the company     0.0045        nan        nan        nan         nan         nan\n",
       "Company public response_Company believes complaint is the result of an isolated error                                                                    0        nan        nan        nan         nan         nan\n",
       "Company public response_Company believes complaint relates to a discontinued policy or procedure                                                         0        nan        nan        nan         nan         nan\n",
       "Company public response_Company believes complaint represents an opportunity for improvement to better serve consumers                                   0        nan        nan        nan         nan         nan\n",
       "Company public response_Company believes it acted appropriately as authorized by contract or law                                                    0.0158        nan        nan        nan         nan         nan\n",
       "Company public response_Company believes the complaint is the result of a misunderstanding                                                         -0.0035        nan        nan        nan         nan         nan\n",
       "Company public response_Company chooses not to provide a public response                                                                           -0.1674        nan        nan        nan         nan         nan\n",
       "Company public response_Company has responded to the consumer and the CFPB and chooses not to provide a public response                            -0.3626        nan        nan        nan         nan         nan\n",
       "Company_BANK OF AMERICA, NATIONAL ASSOCIATION                                                                                                      -0.0044        nan        nan        nan         nan         nan\n",
       "Company_CITIBANK, N.A.                                                                                                                             -0.1726        nan        nan        nan         nan         nan\n",
       "Company_JPMORGAN CHASE & CO.                                                                                                                       -0.1497        nan        nan        nan         nan         nan\n",
       "Company_U.S. BANCORP                                                                                                                               -0.0248        nan        nan        nan         nan         nan\n",
       "Company_WELLS FARGO & COMPANY                                                                                                                      -0.0426        nan        nan        nan         nan         nan\n",
       "State_AA                                                                                                                                           -0.0038        nan        nan        nan         nan         nan\n",
       "State_AE                                                                                                                                            0.0171        nan        nan        nan         nan         nan\n",
       "State_AK                                                                                                                                            0.0032        nan        nan        nan         nan         nan\n",
       "State_AL                                                                                                                                           -0.0814        nan        nan        nan         nan         nan\n",
       "State_AP                                                                                                                                           -0.0039        nan        nan        nan         nan         nan\n",
       "State_AR                                                                                                                                           -0.0614        nan        nan        nan         nan         nan\n",
       "State_AS                                                                                                                                            0.0103        nan        nan        nan         nan         nan\n",
       "State_AZ                                                                                                                                            0.0609        nan        nan        nan         nan         nan\n",
       "State_CA                                                                                                                                            0.1105        nan        nan        nan         nan         nan\n",
       "State_CO                                                                                                                                            0.0503        nan        nan        nan         nan         nan\n",
       "State_CT                                                                                                                                            0.0756        nan        nan        nan         nan         nan\n",
       "State_DC                                                                                                                                           -0.1437        nan        nan        nan         nan         nan\n",
       "State_DE                                                                                                                                            0.1055        nan        nan        nan         nan         nan\n",
       "State_FL                                                                                                                                           -0.0450        nan        nan        nan         nan         nan\n",
       "State_FM                                                                                                                                            0.0033        nan        nan        nan         nan         nan\n",
       "State_GA                                                                                                                                           -0.1238        nan        nan        nan         nan         nan\n",
       "State_GU                                                                                                                                            0.0141        nan        nan        nan         nan         nan\n",
       "State_HI                                                                                                                                            0.0974        nan        nan        nan         nan         nan\n",
       "State_IA                                                                                                                                           -0.0344        nan        nan        nan         nan         nan\n",
       "State_ID                                                                                                                                           -0.0699        nan        nan        nan         nan         nan\n",
       "State_IL                                                                                                                                           -0.0199        nan        nan        nan         nan         nan\n",
       "State_IN                                                                                                                                           -0.1256        nan        nan        nan         nan         nan\n",
       "State_KS                                                                                                                                           -0.0262        nan        nan        nan         nan         nan\n",
       "State_KY                                                                                                                                            0.0045        nan        nan        nan         nan         nan\n",
       "State_LA                                                                                                                                           -0.0509        nan        nan        nan         nan         nan\n",
       "State_MA                                                                                                                                           -0.0944        nan        nan        nan         nan         nan\n",
       "State_MD                                                                                                                                            0.0346        nan        nan        nan         nan         nan\n",
       "State_ME                                                                                                                                            0.0171        nan        nan        nan         nan         nan\n",
       "State_MH                                                                                                                                           -0.0041        nan        nan        nan         nan         nan\n",
       "State_MI                                                                                                                                           -0.0240        nan        nan        nan         nan         nan\n",
       "State_MN                                                                                                                                           -0.0247        nan        nan        nan         nan         nan\n",
       "State_MO                                                                                                                                            0.0273        nan        nan        nan         nan         nan\n",
       "State_MP                                                                                                                                            0.0089        nan        nan        nan         nan         nan\n",
       "State_MS                                                                                                                                            0.0164        nan        nan        nan         nan         nan\n",
       "State_MT                                                                                                                                           -0.0374        nan        nan        nan         nan         nan\n",
       "State_NC                                                                                                                                           -0.0110        nan        nan        nan         nan         nan\n",
       "State_ND                                                                                                                                            0.0060        nan        nan        nan         nan         nan\n",
       "State_NE                                                                                                                                            0.0582        nan        nan        nan         nan         nan\n",
       "State_NH                                                                                                                                           -0.0300        nan        nan        nan         nan         nan\n",
       "State_NJ                                                                                                                                           -0.0412        nan        nan        nan         nan         nan\n",
       "State_NM                                                                                                                                           -0.1452        nan        nan        nan         nan         nan\n",
       "State_NV                                                                                                                                            0.0037        nan        nan        nan         nan         nan\n",
       "State_NY                                                                                                                                            0.0488        nan        nan        nan         nan         nan\n",
       "State_OH                                                                                                                                           -0.0167        nan        nan        nan         nan         nan\n",
       "State_OK                                                                                                                                           -0.0310        nan        nan        nan         nan         nan\n",
       "State_OR                                                                                                                                            0.0656        nan        nan        nan         nan         nan\n",
       "State_PA                                                                                                                                           -0.1454        nan        nan        nan         nan         nan\n",
       "State_PR                                                                                                                                            0.0354        nan        nan        nan         nan         nan\n",
       "State_PW                                                                                                                                            0.0034        nan        nan        nan         nan         nan\n",
       "State_RI                                                                                                                                            0.0088        nan        nan        nan         nan         nan\n",
       "State_SC                                                                                                                                           -0.0223        nan        nan        nan         nan         nan\n",
       "State_SD                                                                                                                                           -0.0314        nan        nan        nan         nan         nan\n",
       "State_TN                                                                                                                                           -0.0483        nan        nan        nan         nan         nan\n",
       "State_TX                                                                                                                                            0.0034        nan        nan        nan         nan         nan\n",
       "State_UT                                                                                                                                           -0.0700        nan        nan        nan         nan         nan\n",
       "State_VA                                                                                                                                            0.0669        nan        nan        nan         nan         nan\n",
       "State_VI                                                                                                                                            0.0033        nan        nan        nan         nan         nan\n",
       "State_VT                                                                                                                                            0.0021        nan        nan        nan         nan         nan\n",
       "State_WA                                                                                                                                            0.0281        nan        nan        nan         nan         nan\n",
       "State_WI                                                                                                                                            0.1158        nan        nan        nan         nan         nan\n",
       "State_WV                                                                                                                                           -0.0247        nan        nan        nan         nan         nan\n",
       "State_WY                                                                                                                                           -0.0109        nan        nan        nan         nan         nan\n",
       "Tags_Older American                                                                                                                                 0.0793        nan        nan        nan         nan         nan\n",
       "Tags_Older American, Servicemember                                                                                                                  0.2124        nan        nan        nan         nan         nan\n",
       "Tags_Servicemember                                                                                                                                 -0.0158        nan        nan        nan         nan         nan\n",
       "Consumer consent provided?_Consent not provided                                                                                                     0.0240        nan        nan        nan         nan         nan\n",
       "Consumer consent provided?_Consent provided                                                                                                         0.2313        nan        nan        nan         nan         nan\n",
       "Consumer consent provided?_Consent withdrawn                                                                                                             0        nan        nan        nan         nan         nan\n",
       "Consumer consent provided?_Other                                                                                                                   -0.1815        nan        nan        nan         nan         nan\n",
       "Submitted via_Email                                                                                                                                -0.0141        nan        nan        nan         nan         nan\n",
       "Submitted via_Fax                                                                                                                                   0.1498        nan        nan        nan         nan         nan\n",
       "Submitted via_Phone                                                                                                                                -0.1792        nan        nan        nan         nan         nan\n",
       "Submitted via_Postal mail                                                                                                                          -0.1615        nan        nan        nan         nan         nan\n",
       "Submitted via_Referral                                                                                                                             -0.2645        nan        nan        nan         nan         nan\n",
       "Submitted via_Web                                                                                                                                   0.0754        nan        nan        nan         nan         nan\n",
       "Company response to consumer_Closed                                                                                                                 0.3146        nan        nan        nan         nan         nan\n",
       "Company response to consumer_Closed with explanation                                                                                                0.2573        nan        nan        nan         nan         nan\n",
       "Company response to consumer_Closed with monetary relief                                                                                           -0.6795        nan        nan        nan         nan         nan\n",
       "Company response to consumer_Closed with non-monetary relief                                                                                       -0.2161        nan        nan        nan         nan         nan\n",
       "Company response to consumer_Closed with relief                                                                                                    -0.3919        nan        nan        nan         nan         nan\n",
       "Company response to consumer_Closed without relief                                                                                                  0.4262        nan        nan        nan         nan         nan\n",
       "Company response to consumer_Untimely response                                                                                                     -0.1048        nan        nan        nan         nan         nan\n",
       "Timely response?_No                                                                                                                                -0.4505        nan        nan        nan         nan         nan\n",
       "Timely response?_Yes                                                                                                                                0.0564        nan        nan        nan         nan         nan\n",
       "===================================================================================================================================================================================================================\n",
       "\"\"\""
      ]
     },
     "execution_count": 67,
     "metadata": {},
     "output_type": "execute_result"
    }
   ],
   "source": [
    "model = sm.Logit(y_train, X_train).fit(method='bfgs')\n",
    "model.summary()"
   ]
  },
  {
   "cell_type": "code",
   "execution_count": 68,
   "id": "00074454",
   "metadata": {},
   "outputs": [],
   "source": [
    "\n",
    "# Set threshold for identifying class 1\n",
    "threshold = 0.20"
   ]
  },
  {
   "cell_type": "code",
   "execution_count": 69,
   "id": "6bcd725b",
   "metadata": {},
   "outputs": [
    {
     "name": "stdout",
     "output_type": "stream",
     "text": [
      "Confusion Matrix : \n",
      " [[  107 32323]\n",
      " [    9  9013]]\n",
      "Test accuracy =  0.22001350960146676\n"
     ]
    }
   ],
   "source": [
    "# Create predictions.  Note that predictions give us probabilities, not classes!\n",
    "pred_prob = model.predict(X_test)\n",
    "\n",
    "# Convert probabilities to 1s and 0s based on threshold\n",
    "pred = (pred_prob>threshold).astype(int)\n",
    " \n",
    "# confusion matrix\n",
    "cm = confusion_matrix(y_test, pred)\n",
    "print (\"Confusion Matrix : \\n\", cm)\n",
    " \n",
    "# accuracy score of the model\n",
    "print('Test accuracy = ', accuracy_score(y_test, pred))"
   ]
  },
  {
   "cell_type": "code",
   "execution_count": 70,
   "id": "85b36f63",
   "metadata": {},
   "outputs": [
    {
     "data": {
      "text/html": [
       "<div>\n",
       "<style scoped>\n",
       "    .dataframe tbody tr th:only-of-type {\n",
       "        vertical-align: middle;\n",
       "    }\n",
       "\n",
       "    .dataframe tbody tr th {\n",
       "        vertical-align: top;\n",
       "    }\n",
       "\n",
       "    .dataframe thead th {\n",
       "        text-align: right;\n",
       "    }\n",
       "</style>\n",
       "<table border=\"1\" class=\"dataframe\">\n",
       "  <thead>\n",
       "    <tr style=\"text-align: right;\">\n",
       "      <th></th>\n",
       "      <th>Predicted 0</th>\n",
       "      <th>Predicted 1</th>\n",
       "    </tr>\n",
       "  </thead>\n",
       "  <tbody>\n",
       "    <tr>\n",
       "      <th>Actual 0</th>\n",
       "      <td>107</td>\n",
       "      <td>32323</td>\n",
       "    </tr>\n",
       "    <tr>\n",
       "      <th>Actual 1</th>\n",
       "      <td>9</td>\n",
       "      <td>9013</td>\n",
       "    </tr>\n",
       "  </tbody>\n",
       "</table>\n",
       "</div>"
      ],
      "text/plain": [
       "          Predicted 0  Predicted 1\n",
       "Actual 0          107        32323\n",
       "Actual 1            9         9013"
      ]
     },
     "execution_count": 70,
     "metadata": {},
     "output_type": "execute_result"
    }
   ],
   "source": [
    "cm = confusion_matrix(y_test, pred)\n",
    "pd.DataFrame(cm, columns=['Predicted 0', 'Predicted 1'], index = ['Actual 0', 'Actual 1'])"
   ]
  },
  {
   "cell_type": "code",
   "execution_count": 71,
   "id": "a46cb779",
   "metadata": {},
   "outputs": [
    {
     "name": "stdout",
     "output_type": "stream",
     "text": [
      "              precision    recall  f1-score   support\n",
      "\n",
      "           0       0.92      0.00      0.01     32430\n",
      "           1       0.22      1.00      0.36      9022\n",
      "\n",
      "    accuracy                           0.22     41452\n",
      "   macro avg       0.57      0.50      0.18     41452\n",
      "weighted avg       0.77      0.22      0.08     41452\n",
      "\n"
     ]
    }
   ],
   "source": [
    "print(classification_report(y_true = y_test, y_pred = pred))"
   ]
  },
  {
   "cell_type": "code",
   "execution_count": 72,
   "id": "c157f706",
   "metadata": {},
   "outputs": [
    {
     "data": {
      "text/plain": [
       "33787     0.506146\n",
       "49710     0.521038\n",
       "190261    0.356554\n",
       "116948    0.533562\n",
       "192281    0.612070\n",
       "            ...   \n",
       "6065      0.552323\n",
       "112206    0.415872\n",
       "184595    0.714033\n",
       "128707    0.568751\n",
       "57042     0.484584\n",
       "Length: 41452, dtype: float64"
      ]
     },
     "execution_count": 72,
     "metadata": {},
     "output_type": "execute_result"
    }
   ],
   "source": [
    "# See what predicted probabilities look like\n",
    "pred_prob"
   ]
  },
  {
   "cell_type": "code",
   "execution_count": 73,
   "id": "1f8b8d8b",
   "metadata": {},
   "outputs": [
    {
     "data": {
      "text/plain": [
       "<AxesSubplot:>"
      ]
     },
     "execution_count": 73,
     "metadata": {},
     "output_type": "execute_result"
    },
    {
     "data": {
      "image/png": "[encoded data removed]",
      "text/plain": [
       "<Figure size 432x288 with 1 Axes>"
      ]
     },
     "metadata": {
      "needs_background": "light"
     },
     "output_type": "display_data"
    }
   ],
   "source": [
    "# A histogram of probabilities.  Why not?\n",
    "pred_prob.hist(bins=40)"
   ]
  },
  {
   "cell_type": "code",
   "execution_count": 74,
   "id": "0efca818",
   "metadata": {},
   "outputs": [
    {
     "data": {
      "text/plain": [
       "0.6068556797434824"
      ]
     },
     "execution_count": 74,
     "metadata": {},
     "output_type": "execute_result"
    }
   ],
   "source": [
    "# AUC calculation\n",
    "metrics.roc_auc_score(y_test, pred_prob)"
   ]
  },
  {
   "cell_type": "code",
   "execution_count": 75,
   "id": "de6efadb",
   "metadata": {},
   "outputs": [
    {
     "data": {
      "image/png": "[encoded data removed]",
      "text/plain": [
       "<Figure size 648x576 with 1 Axes>"
      ]
     },
     "metadata": {
      "needs_background": "light"
     },
     "output_type": "display_data"
    }
   ],
   "source": [
    "# Source for code below: https://stackoverflow.com/questions/25009284/how-to-plot-roc-curve-in-python\n",
    "fpr, tpr, thresholds = metrics.roc_curve(y_test, pred_prob)\n",
    "roc_auc = metrics.auc(fpr, tpr)\n",
    "plt.figure(figsize = (9,8))\n",
    "plt.title('Receiver Operating Characteristic')\n",
    "plt.plot(fpr, tpr, 'b', label = 'AUC = %0.2f' % roc_auc)\n",
    "plt.legend(loc = 'lower right')\n",
    "plt.plot([0, 1], [0, 1],'r--')\n",
    "plt.xlim([0, 1])\n",
    "plt.ylim([0, 1])\n",
    "plt.ylabel('True Positive Rate')\n",
    "plt.xlabel('False Positive Rate')\n",
    "plt.show()"
   ]
  },
  {
   "cell_type": "code",
   "execution_count": null,
   "id": "85ce3be8",
   "metadata": {},
   "outputs": [],
   "source": []
  },
  {
   "cell_type": "code",
   "execution_count": null,
   "id": "21b7f3dc",
   "metadata": {},
   "outputs": [],
   "source": []
  },
  {
   "cell_type": "code",
   "execution_count": null,
   "id": "ab71b086",
   "metadata": {},
   "outputs": [],
   "source": []
  },
  {
   "cell_type": "code",
   "execution_count": null,
   "id": "b12b9f22",
   "metadata": {},
   "outputs": [],
   "source": []
  }
 ],
 "metadata": {
  "kernelspec": {
   "display_name": "Python 3",
   "language": "python",
   "name": "python3"
  },
  "language_info": {
   "codemirror_mode": {
    "name": "ipython",
    "version": 3
   },
   "file_extension": ".py",
   "mimetype": "text/x-python",
   "name": "python",
   "nbconvert_exporter": "python",
   "pygments_lexer": "ipython3",
   "version": "3.8.8"
  }
 },
 "nbformat": 4,
 "nbformat_minor": 5
}
